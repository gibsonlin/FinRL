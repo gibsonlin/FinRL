{
  "cells": [
    {
      "cell_type": "markdown",
      "metadata": {
        "id": "view-in-github",
        "colab_type": "text"
      },
      "source": [
        "<a href=\"https://colab.research.google.com/github/gibsonlin/FinRL/blob/master/4-Optimization/FinRL_HyperparameterTuning_Raytune_RLlib.ipynb\" target=\"_parent\"><img src=\"https://colab.research.google.com/assets/colab-badge.svg\" alt=\"Open In Colab\"/></a>"
      ]
    },
    {
      "cell_type": "code",
      "execution_count": 5,
      "metadata": {
        "id": "ZMPanjastOY4"
      },
      "outputs": [],
      "source": [
        "#Installing FinRL\n",
        "%%capture\n",
        "!pip install wrds\n",
        "!pip install swig\n",
        "!pip install git+https://github.com/AI4Finance-Foundation/FinRL.git"
      ]
    },
    {
      "cell_type": "code",
      "source": [
        "!pip install git+https://github.com/AI4Finance-Foundation/FinRL.git"
      ],
      "metadata": {
        "id": "xwtYxvjZ5o82",
        "outputId": "a778b97c-c560-4611-c017-034f68619675",
        "colab": {
          "base_uri": "https://localhost:8080/"
        }
      },
      "execution_count": 5,
      "outputs": [
        {
          "output_type": "stream",
          "name": "stdout",
          "text": [
            "Collecting git+https://github.com/AI4Finance-Foundation/FinRL.git\r\n",
            "  Cloning https://github.com/AI4Finance-Foundation/FinRL.git to /tmp/pip-req-build-_6k6sqsr\r\n",
            "  Running command git clone --filter=blob:none --quiet https://github.com/AI4Finance-Foundation/FinRL.git /tmp/pip-req-build-_6k6sqsr\n",
            "  Resolved https://github.com/AI4Finance-Foundation/FinRL.git to commit 9175621d1235a335a667ee4796d7722e555a9e78\n",
            "  Installing build dependencies ... \u001b[?25l-\b \b\\\b \bdone\n",
            "\u001b[?25h  Getting requirements to build wheel ... \u001b[?25ldone\n",
            "\u001b[?25h  Preparing metadata (pyproject.toml) ... \u001b[?25ldone\n",
            "\u001b[?25hRequirement already satisfied: alpaca-py<0.38,>=0.37 in /opt/conda/lib/python3.10/site-packages (from finrl==0.3.8) (0.37.0)\n",
            "Requirement already satisfied: alpaca-trade-api<4,>=3 in /opt/conda/lib/python3.10/site-packages (from finrl==0.3.8) (3.2.0)\n",
            "Requirement already satisfied: ccxt<4,>=3 in /opt/conda/lib/python3.10/site-packages (from finrl==0.3.8) (3.1.60)\n",
            "Collecting elegantrl@ git+https://github.com/AI4Finance-Foundation/ElegantRL.git (from finrl==0.3.8)\n",
            "  Cloning https://github.com/AI4Finance-Foundation/ElegantRL.git to /tmp/pip-install-j67gldqy/elegantrl_00cfec96567340a4af13133dc5deff94\n",
            "  Running command git clone --filter=blob:none --quiet https://github.com/AI4Finance-Foundation/ElegantRL.git /tmp/pip-install-j67gldqy/elegantrl_00cfec96567340a4af13133dc5deff94\n",
            "  Resolved https://github.com/AI4Finance-Foundation/ElegantRL.git to commit 8ea76afc3e7f1564ae9f0e69e70254116d575fe9\n",
            "  Preparing metadata (setup.py) ... \u001b[?25l-\b \bdone\n",
            "\u001b[?25hRequirement already satisfied: jqdatasdk<2,>=1 in /opt/conda/lib/python3.10/site-packages (from finrl==0.3.8) (1.9.7)\n",
            "Requirement already satisfied: pyfolio-reloaded<0.10,>=0.9 in /opt/conda/lib/python3.10/site-packages (from finrl==0.3.8) (0.9.8)\n",
            "Requirement already satisfied: pyportfolioopt<2,>=1 in /opt/conda/lib/python3.10/site-packages (from finrl==0.3.8) (1.5.6)\n",
            "Requirement already satisfied: ray<3,>=2 in /opt/conda/lib/python3.10/site-packages (from ray[default,tune]<3,>=2->finrl==0.3.8) (2.9.0)\n",
            "Requirement already satisfied: scikit-learn<2,>=1 in /opt/conda/lib/python3.10/site-packages (from finrl==0.3.8) (1.6.1)\n",
            "Requirement already satisfied: selenium<5,>=4 in /opt/conda/lib/python3.10/site-packages (from finrl==0.3.8) (4.32.0)\n",
            "Requirement already satisfied: stable-baselines3>=2.0.0a5 in /opt/conda/lib/python3.10/site-packages (from stable-baselines3[extra]>=2.0.0a5->finrl==0.3.8) (2.6.1a1)\n",
            "Requirement already satisfied: stockstats<0.6,>=0.5 in /opt/conda/lib/python3.10/site-packages (from finrl==0.3.8) (0.5.4)\n",
            "Requirement already satisfied: webdriver-manager<5,>=4 in /opt/conda/lib/python3.10/site-packages (from finrl==0.3.8) (4.0.2)\n",
            "Requirement already satisfied: wrds<4,>=3 in /opt/conda/lib/python3.10/site-packages (from finrl==0.3.8) (3.3.0)\n",
            "Requirement already satisfied: yfinance<0.3,>=0.2 in /opt/conda/lib/python3.10/site-packages (from finrl==0.3.8) (0.2.58)\n",
            "Requirement already satisfied: th in /opt/conda/lib/python3.10/site-packages (from elegantrl@ git+https://github.com/AI4Finance-Foundation/ElegantRL.git->finrl==0.3.8) (0.4.1)\n",
            "Requirement already satisfied: numpy in /opt/conda/lib/python3.10/site-packages (from elegantrl@ git+https://github.com/AI4Finance-Foundation/ElegantRL.git->finrl==0.3.8) (1.26.4)\n",
            "Requirement already satisfied: gymnasium in /opt/conda/lib/python3.10/site-packages (from elegantrl@ git+https://github.com/AI4Finance-Foundation/ElegantRL.git->finrl==0.3.8) (0.28.1)\n",
            "Requirement already satisfied: matplotlib in /opt/conda/lib/python3.10/site-packages (from elegantrl@ git+https://github.com/AI4Finance-Foundation/ElegantRL.git->finrl==0.3.8) (3.10.0)\n",
            "Requirement already satisfied: msgpack<2.0.0,>=1.0.3 in /opt/conda/lib/python3.10/site-packages (from alpaca-py<0.38,>=0.37->finrl==0.3.8) (1.0.3)\n",
            "Requirement already satisfied: pandas>=1.5.3 in /opt/conda/lib/python3.10/site-packages (from alpaca-py<0.38,>=0.37->finrl==0.3.8) (2.2.3)\n",
            "Requirement already satisfied: pydantic<3.0.0,>=2.0.3 in /opt/conda/lib/python3.10/site-packages (from alpaca-py<0.38,>=0.37->finrl==0.3.8) (2.11.4)\n",
            "Requirement already satisfied: requests<3.0.0,>=2.30.0 in /opt/conda/lib/python3.10/site-packages (from alpaca-py<0.38,>=0.37->finrl==0.3.8) (2.31.0)\n",
            "Requirement already satisfied: sseclient-py<2.0.0,>=1.7.2 in /opt/conda/lib/python3.10/site-packages (from alpaca-py<0.38,>=0.37->finrl==0.3.8) (1.8.0)\n",
            "Requirement already satisfied: websockets>=10.4 in /opt/conda/lib/python3.10/site-packages (from alpaca-py<0.38,>=0.37->finrl==0.3.8) (10.4)\n",
            "Requirement already satisfied: urllib3<2,>1.24 in /opt/conda/lib/python3.10/site-packages (from alpaca-trade-api<4,>=3->finrl==0.3.8) (1.26.20)\n",
            "Requirement already satisfied: websocket-client<2,>=0.56.0 in /opt/conda/lib/python3.10/site-packages (from alpaca-trade-api<4,>=3->finrl==0.3.8) (1.8.0)\n",
            "Requirement already satisfied: aiohttp<4,>=3.8.3 in /opt/conda/lib/python3.10/site-packages (from alpaca-trade-api<4,>=3->finrl==0.3.8) (3.11.18)\n",
            "Requirement already satisfied: PyYAML==6.0.1 in /opt/conda/lib/python3.10/site-packages (from alpaca-trade-api<4,>=3->finrl==0.3.8) (6.0.1)\n",
            "Requirement already satisfied: deprecation==2.1.0 in /opt/conda/lib/python3.10/site-packages (from alpaca-trade-api<4,>=3->finrl==0.3.8) (2.1.0)\n",
            "Requirement already satisfied: packaging in /opt/conda/lib/python3.10/site-packages (from deprecation==2.1.0->alpaca-trade-api<4,>=3->finrl==0.3.8) (23.1)\n",
            "Requirement already satisfied: aiohappyeyeballs>=2.3.0 in /opt/conda/lib/python3.10/site-packages (from aiohttp<4,>=3.8.3->alpaca-trade-api<4,>=3->finrl==0.3.8) (2.6.1)\n",
            "Requirement already satisfied: aiosignal>=1.1.2 in /opt/conda/lib/python3.10/site-packages (from aiohttp<4,>=3.8.3->alpaca-trade-api<4,>=3->finrl==0.3.8) (1.3.2)\n",
            "Requirement already satisfied: async-timeout<6.0,>=4.0 in /opt/conda/lib/python3.10/site-packages (from aiohttp<4,>=3.8.3->alpaca-trade-api<4,>=3->finrl==0.3.8) (5.0.1)\n",
            "Requirement already satisfied: attrs>=17.3.0 in /opt/conda/lib/python3.10/site-packages (from aiohttp<4,>=3.8.3->alpaca-trade-api<4,>=3->finrl==0.3.8) (25.3.0)\n",
            "Requirement already satisfied: frozenlist>=1.1.1 in /opt/conda/lib/python3.10/site-packages (from aiohttp<4,>=3.8.3->alpaca-trade-api<4,>=3->finrl==0.3.8) (1.6.0)\n",
            "Requirement already satisfied: multidict<7.0,>=4.5 in /opt/conda/lib/python3.10/site-packages (from aiohttp<4,>=3.8.3->alpaca-trade-api<4,>=3->finrl==0.3.8) (6.4.3)\n",
            "Requirement already satisfied: propcache>=0.2.0 in /opt/conda/lib/python3.10/site-packages (from aiohttp<4,>=3.8.3->alpaca-trade-api<4,>=3->finrl==0.3.8) (0.3.1)\n",
            "Requirement already satisfied: yarl<2.0,>=1.17.0 in /opt/conda/lib/python3.10/site-packages (from aiohttp<4,>=3.8.3->alpaca-trade-api<4,>=3->finrl==0.3.8) (1.20.0)\n",
            "Requirement already satisfied: setuptools>=60.9.0 in /opt/conda/lib/python3.10/site-packages (from ccxt<4,>=3->finrl==0.3.8) (80.7.1)\n",
            "Requirement already satisfied: certifi>=2018.1.18 in /opt/conda/lib/python3.10/site-packages (from ccxt<4,>=3->finrl==0.3.8) (2024.2.2)\n",
            "Requirement already satisfied: cryptography>=2.6.1 in /opt/conda/lib/python3.10/site-packages (from ccxt<4,>=3->finrl==0.3.8) (42.0.2)\n",
            "Requirement already satisfied: aiodns>=1.1.1 in /opt/conda/lib/python3.10/site-packages (from ccxt<4,>=3->finrl==0.3.8) (3.4.0)\n",
            "Requirement already satisfied: six in /opt/conda/lib/python3.10/site-packages (from jqdatasdk<2,>=1->finrl==0.3.8) (1.16.0)\n",
            "Requirement already satisfied: SQLAlchemy>=1.2.8 in /opt/conda/lib/python3.10/site-packages (from jqdatasdk<2,>=1->finrl==0.3.8) (2.0.41)\n",
            "Requirement already satisfied: pymysql>=0.7.6 in /opt/conda/lib/python3.10/site-packages (from jqdatasdk<2,>=1->finrl==0.3.8) (1.1.1)\n",
            "Requirement already satisfied: thriftpy2!=0.5.1,>=0.3.9 in /opt/conda/lib/python3.10/site-packages (from jqdatasdk<2,>=1->finrl==0.3.8) (0.5.2)\n",
            "Requirement already satisfied: typing-extensions>=4.1.0 in /opt/conda/lib/python3.10/site-packages (from multidict<7.0,>=4.5->aiohttp<4,>=3.8.3->alpaca-trade-api<4,>=3->finrl==0.3.8) (4.13.2)\n",
            "Requirement already satisfied: annotated-types>=0.6.0 in /opt/conda/lib/python3.10/site-packages (from pydantic<3.0.0,>=2.0.3->alpaca-py<0.38,>=0.37->finrl==0.3.8) (0.7.0)\n",
            "Requirement already satisfied: pydantic-core==2.33.2 in /opt/conda/lib/python3.10/site-packages (from pydantic<3.0.0,>=2.0.3->alpaca-py<0.38,>=0.37->finrl==0.3.8) (2.33.2)\n",
            "Requirement already satisfied: typing-inspection>=0.4.0 in /opt/conda/lib/python3.10/site-packages (from pydantic<3.0.0,>=2.0.3->alpaca-py<0.38,>=0.37->finrl==0.3.8) (0.4.0)\n",
            "Requirement already satisfied: ipython>=3.2.3 in /opt/conda/lib/python3.10/site-packages (from pyfolio-reloaded<0.10,>=0.9->finrl==0.3.8) (8.20.0)\n",
            "Requirement already satisfied: pytz>=2014.10 in /opt/conda/lib/python3.10/site-packages (from pyfolio-reloaded<0.10,>=0.9->finrl==0.3.8) (2023.3.post1)\n",
            "Requirement already satisfied: scipy>=0.14.0 in /opt/conda/lib/python3.10/site-packages (from pyfolio-reloaded<0.10,>=0.9->finrl==0.3.8) (1.15.3)\n",
            "Requirement already satisfied: seaborn>=0.7.1 in /opt/conda/lib/python3.10/site-packages (from pyfolio-reloaded<0.10,>=0.9->finrl==0.3.8) (0.13.2)\n",
            "Requirement already satisfied: empyrical-reloaded>=0.5.9 in /opt/conda/lib/python3.10/site-packages (from pyfolio-reloaded<0.10,>=0.9->finrl==0.3.8) (0.5.11)\n",
            "Requirement already satisfied: python-dateutil>=2.8.2 in /opt/conda/lib/python3.10/site-packages (from pandas>=1.5.3->alpaca-py<0.38,>=0.37->finrl==0.3.8) (2.9.0.post0)\n",
            "Requirement already satisfied: tzdata>=2022.7 in /opt/conda/lib/python3.10/site-packages (from pandas>=1.5.3->alpaca-py<0.38,>=0.37->finrl==0.3.8) (2025.2)\n",
            "Requirement already satisfied: cvxpy>=1.1.19 in /opt/conda/lib/python3.10/site-packages (from pyportfolioopt<2,>=1->finrl==0.3.8) (1.6.5)\n",
            "Requirement already satisfied: ecos<3.0.0,>=2.0.14 in /opt/conda/lib/python3.10/site-packages (from pyportfolioopt<2,>=1->finrl==0.3.8) (2.0.14)\n",
            "Requirement already satisfied: plotly<6.0.0,>=5.0.0 in /opt/conda/lib/python3.10/site-packages (from pyportfolioopt<2,>=1->finrl==0.3.8) (5.24.1)\n",
            "Requirement already satisfied: tenacity>=6.2.0 in /opt/conda/lib/python3.10/site-packages (from plotly<6.0.0,>=5.0.0->pyportfolioopt<2,>=1->finrl==0.3.8) (9.1.2)\n",
            "Requirement already satisfied: click>=7.0 in /opt/conda/lib/python3.10/site-packages (from ray<3,>=2->ray[default,tune]<3,>=2->finrl==0.3.8) (8.1.7)\n",
            "Requirement already satisfied: filelock in /opt/conda/lib/python3.10/site-packages (from ray<3,>=2->ray[default,tune]<3,>=2->finrl==0.3.8) (3.18.0)\n",
            "Requirement already satisfied: jsonschema in /opt/conda/lib/python3.10/site-packages (from ray<3,>=2->ray[default,tune]<3,>=2->finrl==0.3.8) (4.19.2)\n",
            "Requirement already satisfied: protobuf!=3.19.5,>=3.15.3 in /opt/conda/lib/python3.10/site-packages (from ray<3,>=2->ray[default,tune]<3,>=2->finrl==0.3.8) (6.31.0)\n",
            "Requirement already satisfied: aiohttp-cors in /opt/conda/lib/python3.10/site-packages (from ray[default,tune]<3,>=2->finrl==0.3.8) (0.8.1)\n",
            "Requirement already satisfied: colorful in /opt/conda/lib/python3.10/site-packages (from ray[default,tune]<3,>=2->finrl==0.3.8) (0.5.6)\n",
            "Requirement already satisfied: py-spy>=0.2.0 in /opt/conda/lib/python3.10/site-packages (from ray[default,tune]<3,>=2->finrl==0.3.8) (0.4.0)\n",
            "Collecting gpustat>=1.0.0 (from ray[default,tune]<3,>=2->finrl==0.3.8)\n",
            "  Downloading gpustat-1.1.1.tar.gz (98 kB)\n",
            "  Installing build dependencies ... \u001b[?25l-\b \b\\\b \b|\b \b/\b \b-\b \bdone\n",
            "\u001b[?25h  Getting requirements to build wheel ... \u001b[?25l-\b \bdone\n",
            "\u001b[?25h  Preparing metadata (pyproject.toml) ... \u001b[?25l-\b \bdone\n",
            "\u001b[?25hRequirement already satisfied: opencensus in /opt/conda/lib/python3.10/site-packages (from ray[default,tune]<3,>=2->finrl==0.3.8) (0.11.4)\n",
            "Requirement already satisfied: prometheus-client>=0.7.1 in /opt/conda/lib/python3.10/site-packages (from ray[default,tune]<3,>=2->finrl==0.3.8) (0.22.0)\n",
            "Requirement already satisfied: smart-open in /opt/conda/lib/python3.10/site-packages (from ray[default,tune]<3,>=2->finrl==0.3.8) (7.1.0)\n",
            "Collecting virtualenv<20.21.1,>=20.0.24 (from ray[default,tune]<3,>=2->finrl==0.3.8)\n",
            "  Downloading virtualenv-20.21.0-py3-none-any.whl.metadata (4.1 kB)\n",
            "Requirement already satisfied: grpcio>=1.42.0 in /opt/conda/lib/python3.10/site-packages (from ray[default,tune]<3,>=2->finrl==0.3.8) (1.71.0)\n",
            "Requirement already satisfied: tensorboardX>=1.9 in /opt/conda/lib/python3.10/site-packages (from ray[default,tune]<3,>=2->finrl==0.3.8) (2.6.2.2)\n",
            "Requirement already satisfied: pyarrow>=6.0.1 in /opt/conda/lib/python3.10/site-packages (from ray[default,tune]<3,>=2->finrl==0.3.8) (19.0.1)\n",
            "Requirement already satisfied: fsspec in /opt/conda/lib/python3.10/site-packages (from ray[default,tune]<3,>=2->finrl==0.3.8) (2024.2.0)\n",
            "Requirement already satisfied: charset-normalizer<4,>=2 in /opt/conda/lib/python3.10/site-packages (from requests<3.0.0,>=2.30.0->alpaca-py<0.38,>=0.37->finrl==0.3.8) (2.0.4)\n",
            "Requirement already satisfied: idna<4,>=2.5 in /opt/conda/lib/python3.10/site-packages (from requests<3.0.0,>=2.30.0->alpaca-py<0.38,>=0.37->finrl==0.3.8) (3.4)\n",
            "Requirement already satisfied: joblib>=1.2.0 in /opt/conda/lib/python3.10/site-packages (from scikit-learn<2,>=1->finrl==0.3.8) (1.2.0)\n",
            "Requirement already satisfied: threadpoolctl>=3.1.0 in /opt/conda/lib/python3.10/site-packages (from scikit-learn<2,>=1->finrl==0.3.8) (3.6.0)\n",
            "Requirement already satisfied: trio~=0.17 in /opt/conda/lib/python3.10/site-packages (from selenium<5,>=4->finrl==0.3.8) (0.30.0)\n",
            "Requirement already satisfied: trio-websocket~=0.9 in /opt/conda/lib/python3.10/site-packages (from selenium<5,>=4->finrl==0.3.8) (0.12.2)\n",
            "Requirement already satisfied: sortedcontainers in /opt/conda/lib/python3.10/site-packages (from trio~=0.17->selenium<5,>=4->finrl==0.3.8) (2.4.0)\n",
            "Requirement already satisfied: outcome in /opt/conda/lib/python3.10/site-packages (from trio~=0.17->selenium<5,>=4->finrl==0.3.8) (1.3.0.post0)\n",
            "Requirement already satisfied: sniffio>=1.3.0 in /opt/conda/lib/python3.10/site-packages (from trio~=0.17->selenium<5,>=4->finrl==0.3.8) (1.3.1)\n",
            "Requirement already satisfied: exceptiongroup in /opt/conda/lib/python3.10/site-packages (from trio~=0.17->selenium<5,>=4->finrl==0.3.8) (1.2.0)\n",
            "Requirement already satisfied: wsproto>=0.14 in /opt/conda/lib/python3.10/site-packages (from trio-websocket~=0.9->selenium<5,>=4->finrl==0.3.8) (1.2.0)\n",
            "Requirement already satisfied: PySocks!=1.5.7,<2.0,>=1.5.6 in /opt/conda/lib/python3.10/site-packages (from urllib3[socks]<3,>=1.26->selenium<5,>=4->finrl==0.3.8) (1.7.1)\n",
            "Requirement already satisfied: distlib<1,>=0.3.6 in /opt/conda/lib/python3.10/site-packages (from virtualenv<20.21.1,>=20.0.24->ray[default,tune]<3,>=2->finrl==0.3.8) (0.3.9)\n",
            "Requirement already satisfied: platformdirs<4,>=2.4 in /opt/conda/lib/python3.10/site-packages (from virtualenv<20.21.1,>=20.0.24->ray[default,tune]<3,>=2->finrl==0.3.8) (3.10.0)\n",
            "Requirement already satisfied: python-dotenv in /opt/conda/lib/python3.10/site-packages (from webdriver-manager<5,>=4->finrl==0.3.8) (1.1.0)\n",
            "Requirement already satisfied: psycopg2-binary<2.10,>=2.9 in /opt/conda/lib/python3.10/site-packages (from wrds<4,>=3->finrl==0.3.8) (2.9.10)\n",
            "Requirement already satisfied: greenlet>=1 in /opt/conda/lib/python3.10/site-packages (from SQLAlchemy>=1.2.8->jqdatasdk<2,>=1->finrl==0.3.8) (3.2.2)\n",
            "Requirement already satisfied: multitasking>=0.0.7 in /opt/conda/lib/python3.10/site-packages (from yfinance<0.3,>=0.2->finrl==0.3.8) (0.0.11)\n",
            "Requirement already satisfied: frozendict>=2.3.4 in /opt/conda/lib/python3.10/site-packages (from yfinance<0.3,>=0.2->finrl==0.3.8) (2.4.6)\n",
            "Requirement already satisfied: peewee>=3.16.2 in /opt/conda/lib/python3.10/site-packages (from yfinance<0.3,>=0.2->finrl==0.3.8) (3.17.3)\n",
            "Requirement already satisfied: beautifulsoup4>=4.11.1 in /opt/conda/lib/python3.10/site-packages (from yfinance<0.3,>=0.2->finrl==0.3.8) (4.12.2)\n",
            "Requirement already satisfied: curl_cffi>=0.7 in /opt/conda/lib/python3.10/site-packages (from yfinance<0.3,>=0.2->finrl==0.3.8) (0.11.1)\n",
            "Requirement already satisfied: pycares>=4.0.0 in /opt/conda/lib/python3.10/site-packages (from aiodns>=1.1.1->ccxt<4,>=3->finrl==0.3.8) (4.8.0)\n",
            "Requirement already satisfied: soupsieve>1.2 in /opt/conda/lib/python3.10/site-packages (from beautifulsoup4>=4.11.1->yfinance<0.3,>=0.2->finrl==0.3.8) (2.5)\n",
            "Requirement already satisfied: cffi>=1.12 in /opt/conda/lib/python3.10/site-packages (from cryptography>=2.6.1->ccxt<4,>=3->finrl==0.3.8) (1.16.0)\n",
            "Requirement already satisfied: pycparser in /opt/conda/lib/python3.10/site-packages (from cffi>=1.12->cryptography>=2.6.1->ccxt<4,>=3->finrl==0.3.8) (2.21)\n",
            "Requirement already satisfied: osqp>=0.6.2 in /opt/conda/lib/python3.10/site-packages (from cvxpy>=1.1.19->pyportfolioopt<2,>=1->finrl==0.3.8) (1.0.4)\n",
            "Requirement already satisfied: clarabel>=0.5.0 in /opt/conda/lib/python3.10/site-packages (from cvxpy>=1.1.19->pyportfolioopt<2,>=1->finrl==0.3.8) (0.10.0)\n",
            "Requirement already satisfied: scs>=3.2.4.post1 in /opt/conda/lib/python3.10/site-packages (from cvxpy>=1.1.19->pyportfolioopt<2,>=1->finrl==0.3.8) (3.2.7.post2)\n",
            "Requirement already satisfied: bottleneck>=1.3.0 in /opt/conda/lib/python3.10/site-packages (from empyrical-reloaded>=0.5.9->pyfolio-reloaded<0.10,>=0.9->finrl==0.3.8) (1.5.0)\n",
            "Collecting nvidia-ml-py>=11.450.129 (from gpustat>=1.0.0->ray[default,tune]<3,>=2->finrl==0.3.8)\n",
            "  Downloading nvidia_ml_py-12.575.51-py3-none-any.whl.metadata (9.3 kB)\n",
            "Requirement already satisfied: psutil>=5.6.0 in /opt/conda/lib/python3.10/site-packages (from gpustat>=1.0.0->ray[default,tune]<3,>=2->finrl==0.3.8) (5.9.0)\n",
            "Collecting blessed>=1.17.1 (from gpustat>=1.0.0->ray[default,tune]<3,>=2->finrl==0.3.8)\n",
            "  Downloading blessed-1.21.0-py2.py3-none-any.whl.metadata (13 kB)\n",
            "Requirement already satisfied: wcwidth>=0.1.4 in /opt/conda/lib/python3.10/site-packages (from blessed>=1.17.1->gpustat>=1.0.0->ray[default,tune]<3,>=2->finrl==0.3.8) (0.2.5)\n",
            "Requirement already satisfied: decorator in /opt/conda/lib/python3.10/site-packages (from ipython>=3.2.3->pyfolio-reloaded<0.10,>=0.9->finrl==0.3.8) (5.1.1)\n",
            "Requirement already satisfied: jedi>=0.16 in /opt/conda/lib/python3.10/site-packages (from ipython>=3.2.3->pyfolio-reloaded<0.10,>=0.9->finrl==0.3.8) (0.18.1)\n",
            "Requirement already satisfied: matplotlib-inline in /opt/conda/lib/python3.10/site-packages (from ipython>=3.2.3->pyfolio-reloaded<0.10,>=0.9->finrl==0.3.8) (0.1.6)\n",
            "Requirement already satisfied: prompt-toolkit<3.1.0,>=3.0.41 in /opt/conda/lib/python3.10/site-packages (from ipython>=3.2.3->pyfolio-reloaded<0.10,>=0.9->finrl==0.3.8) (3.0.43)\n",
            "Requirement already satisfied: pygments>=2.4.0 in /opt/conda/lib/python3.10/site-packages (from ipython>=3.2.3->pyfolio-reloaded<0.10,>=0.9->finrl==0.3.8) (2.15.1)\n",
            "Requirement already satisfied: stack-data in /opt/conda/lib/python3.10/site-packages (from ipython>=3.2.3->pyfolio-reloaded<0.10,>=0.9->finrl==0.3.8) (0.2.0)\n",
            "Requirement already satisfied: traitlets>=5 in /opt/conda/lib/python3.10/site-packages (from ipython>=3.2.3->pyfolio-reloaded<0.10,>=0.9->finrl==0.3.8) (5.7.1)\n",
            "Requirement already satisfied: pexpect>4.3 in /opt/conda/lib/python3.10/site-packages (from ipython>=3.2.3->pyfolio-reloaded<0.10,>=0.9->finrl==0.3.8) (4.8.0)\n",
            "Requirement already satisfied: parso<0.9.0,>=0.8.0 in /opt/conda/lib/python3.10/site-packages (from jedi>=0.16->ipython>=3.2.3->pyfolio-reloaded<0.10,>=0.9->finrl==0.3.8) (0.8.3)\n",
            "Requirement already satisfied: contourpy>=1.0.1 in /opt/conda/lib/python3.10/site-packages (from matplotlib->elegantrl@ git+https://github.com/AI4Finance-Foundation/ElegantRL.git->finrl==0.3.8) (1.3.2)\n",
            "Requirement already satisfied: cycler>=0.10 in /opt/conda/lib/python3.10/site-packages (from matplotlib->elegantrl@ git+https://github.com/AI4Finance-Foundation/ElegantRL.git->finrl==0.3.8) (0.12.1)\n",
            "Requirement already satisfied: fonttools>=4.22.0 in /opt/conda/lib/python3.10/site-packages (from matplotlib->elegantrl@ git+https://github.com/AI4Finance-Foundation/ElegantRL.git->finrl==0.3.8) (4.58.0)\n",
            "Requirement already satisfied: kiwisolver>=1.3.1 in /opt/conda/lib/python3.10/site-packages (from matplotlib->elegantrl@ git+https://github.com/AI4Finance-Foundation/ElegantRL.git->finrl==0.3.8) (1.4.8)\n",
            "Requirement already satisfied: pillow>=8 in /opt/conda/lib/python3.10/site-packages (from matplotlib->elegantrl@ git+https://github.com/AI4Finance-Foundation/ElegantRL.git->finrl==0.3.8) (10.2.0)\n",
            "Requirement already satisfied: pyparsing>=2.3.1 in /opt/conda/lib/python3.10/site-packages (from matplotlib->elegantrl@ git+https://github.com/AI4Finance-Foundation/ElegantRL.git->finrl==0.3.8) (3.2.3)\n",
            "Requirement already satisfied: jinja2 in /opt/conda/lib/python3.10/site-packages (from osqp>=0.6.2->cvxpy>=1.1.19->pyportfolioopt<2,>=1->finrl==0.3.8) (3.1.3)\n",
            "Requirement already satisfied: ptyprocess>=0.5 in /opt/conda/lib/python3.10/site-packages (from pexpect>4.3->ipython>=3.2.3->pyfolio-reloaded<0.10,>=0.9->finrl==0.3.8) (0.7.0)\n",
            "Collecting gymnasium (from elegantrl@ git+https://github.com/AI4Finance-Foundation/ElegantRL.git->finrl==0.3.8)\n",
            "  Using cached gymnasium-1.1.1-py3-none-any.whl.metadata (9.4 kB)\n",
            "Requirement already satisfied: torch<3.0,>=2.3 in /opt/conda/lib/python3.10/site-packages (from stable-baselines3>=2.0.0a5->stable-baselines3[extra]>=2.0.0a5->finrl==0.3.8) (2.7.0)\n",
            "Requirement already satisfied: cloudpickle in /opt/conda/lib/python3.10/site-packages (from stable-baselines3>=2.0.0a5->stable-baselines3[extra]>=2.0.0a5->finrl==0.3.8) (3.1.1)\n",
            "Requirement already satisfied: farama-notifications>=0.0.1 in /opt/conda/lib/python3.10/site-packages (from gymnasium->elegantrl@ git+https://github.com/AI4Finance-Foundation/ElegantRL.git->finrl==0.3.8) (0.0.4)\n",
            "Requirement already satisfied: sympy>=1.13.3 in /opt/conda/lib/python3.10/site-packages (from torch<3.0,>=2.3->stable-baselines3>=2.0.0a5->stable-baselines3[extra]>=2.0.0a5->finrl==0.3.8) (1.14.0)\n",
            "Requirement already satisfied: networkx in /opt/conda/lib/python3.10/site-packages (from torch<3.0,>=2.3->stable-baselines3>=2.0.0a5->stable-baselines3[extra]>=2.0.0a5->finrl==0.3.8) (3.1)\n",
            "Requirement already satisfied: nvidia-cuda-nvrtc-cu12==12.6.77 in /opt/conda/lib/python3.10/site-packages (from torch<3.0,>=2.3->stable-baselines3>=2.0.0a5->stable-baselines3[extra]>=2.0.0a5->finrl==0.3.8) (12.6.77)\n",
            "Requirement already satisfied: nvidia-cuda-runtime-cu12==12.6.77 in /opt/conda/lib/python3.10/site-packages (from torch<3.0,>=2.3->stable-baselines3>=2.0.0a5->stable-baselines3[extra]>=2.0.0a5->finrl==0.3.8) (12.6.77)\n",
            "Requirement already satisfied: nvidia-cuda-cupti-cu12==12.6.80 in /opt/conda/lib/python3.10/site-packages (from torch<3.0,>=2.3->stable-baselines3>=2.0.0a5->stable-baselines3[extra]>=2.0.0a5->finrl==0.3.8) (12.6.80)\n",
            "Requirement already satisfied: nvidia-cudnn-cu12==9.5.1.17 in /opt/conda/lib/python3.10/site-packages (from torch<3.0,>=2.3->stable-baselines3>=2.0.0a5->stable-baselines3[extra]>=2.0.0a5->finrl==0.3.8) (9.5.1.17)\n",
            "Requirement already satisfied: nvidia-cublas-cu12==12.6.4.1 in /opt/conda/lib/python3.10/site-packages (from torch<3.0,>=2.3->stable-baselines3>=2.0.0a5->stable-baselines3[extra]>=2.0.0a5->finrl==0.3.8) (12.6.4.1)\n",
            "Requirement already satisfied: nvidia-cufft-cu12==11.3.0.4 in /opt/conda/lib/python3.10/site-packages (from torch<3.0,>=2.3->stable-baselines3>=2.0.0a5->stable-baselines3[extra]>=2.0.0a5->finrl==0.3.8) (11.3.0.4)\n",
            "Requirement already satisfied: nvidia-curand-cu12==10.3.7.77 in /opt/conda/lib/python3.10/site-packages (from torch<3.0,>=2.3->stable-baselines3>=2.0.0a5->stable-baselines3[extra]>=2.0.0a5->finrl==0.3.8) (10.3.7.77)\n",
            "Requirement already satisfied: nvidia-cusolver-cu12==11.7.1.2 in /opt/conda/lib/python3.10/site-packages (from torch<3.0,>=2.3->stable-baselines3>=2.0.0a5->stable-baselines3[extra]>=2.0.0a5->finrl==0.3.8) (11.7.1.2)\n",
            "Requirement already satisfied: nvidia-cusparse-cu12==12.5.4.2 in /opt/conda/lib/python3.10/site-packages (from torch<3.0,>=2.3->stable-baselines3>=2.0.0a5->stable-baselines3[extra]>=2.0.0a5->finrl==0.3.8) (12.5.4.2)\n",
            "Requirement already satisfied: nvidia-cusparselt-cu12==0.6.3 in /opt/conda/lib/python3.10/site-packages (from torch<3.0,>=2.3->stable-baselines3>=2.0.0a5->stable-baselines3[extra]>=2.0.0a5->finrl==0.3.8) (0.6.3)\n",
            "Requirement already satisfied: nvidia-nccl-cu12==2.26.2 in /opt/conda/lib/python3.10/site-packages (from torch<3.0,>=2.3->stable-baselines3>=2.0.0a5->stable-baselines3[extra]>=2.0.0a5->finrl==0.3.8) (2.26.2)\n",
            "Requirement already satisfied: nvidia-nvtx-cu12==12.6.77 in /opt/conda/lib/python3.10/site-packages (from torch<3.0,>=2.3->stable-baselines3>=2.0.0a5->stable-baselines3[extra]>=2.0.0a5->finrl==0.3.8) (12.6.77)\n",
            "Requirement already satisfied: nvidia-nvjitlink-cu12==12.6.85 in /opt/conda/lib/python3.10/site-packages (from torch<3.0,>=2.3->stable-baselines3>=2.0.0a5->stable-baselines3[extra]>=2.0.0a5->finrl==0.3.8) (12.6.85)\n",
            "Requirement already satisfied: nvidia-cufile-cu12==1.11.1.6 in /opt/conda/lib/python3.10/site-packages (from torch<3.0,>=2.3->stable-baselines3>=2.0.0a5->stable-baselines3[extra]>=2.0.0a5->finrl==0.3.8) (1.11.1.6)\n",
            "Requirement already satisfied: triton==3.3.0 in /opt/conda/lib/python3.10/site-packages (from torch<3.0,>=2.3->stable-baselines3>=2.0.0a5->stable-baselines3[extra]>=2.0.0a5->finrl==0.3.8) (3.3.0)\n",
            "Requirement already satisfied: opencv-python in /opt/conda/lib/python3.10/site-packages (from stable-baselines3[extra]>=2.0.0a5->finrl==0.3.8) (4.11.0.86)\n",
            "Requirement already satisfied: pygame in /opt/conda/lib/python3.10/site-packages (from stable-baselines3[extra]>=2.0.0a5->finrl==0.3.8) (2.6.1)\n",
            "Requirement already satisfied: tensorboard>=2.9.1 in /opt/conda/lib/python3.10/site-packages (from stable-baselines3[extra]>=2.0.0a5->finrl==0.3.8) (2.19.0)\n",
            "Requirement already satisfied: tqdm in /opt/conda/lib/python3.10/site-packages (from stable-baselines3[extra]>=2.0.0a5->finrl==0.3.8) (4.65.0)\n",
            "Requirement already satisfied: rich in /opt/conda/lib/python3.10/site-packages (from stable-baselines3[extra]>=2.0.0a5->finrl==0.3.8) (14.0.0)\n",
            "Requirement already satisfied: ale-py>=0.9.0 in /opt/conda/lib/python3.10/site-packages (from stable-baselines3[extra]>=2.0.0a5->finrl==0.3.8) (0.11.0)\n",
            "Requirement already satisfied: mpmath<1.4,>=1.1.0 in /opt/conda/lib/python3.10/site-packages (from sympy>=1.13.3->torch<3.0,>=2.3->stable-baselines3>=2.0.0a5->stable-baselines3[extra]>=2.0.0a5->finrl==0.3.8) (1.3.0)\n",
            "Requirement already satisfied: absl-py>=0.4 in /opt/conda/lib/python3.10/site-packages (from tensorboard>=2.9.1->stable-baselines3[extra]>=2.0.0a5->finrl==0.3.8) (2.2.2)\n",
            "Requirement already satisfied: markdown>=2.6.8 in /opt/conda/lib/python3.10/site-packages (from tensorboard>=2.9.1->stable-baselines3[extra]>=2.0.0a5->finrl==0.3.8) (3.8)\n",
            "Requirement already satisfied: tensorboard-data-server<0.8.0,>=0.7.0 in /opt/conda/lib/python3.10/site-packages (from tensorboard>=2.9.1->stable-baselines3[extra]>=2.0.0a5->finrl==0.3.8) (0.7.2)\n",
            "Requirement already satisfied: werkzeug>=1.0.1 in /opt/conda/lib/python3.10/site-packages (from tensorboard>=2.9.1->stable-baselines3[extra]>=2.0.0a5->finrl==0.3.8) (3.1.3)\n",
            "Requirement already satisfied: Cython>=3.0.10 in /opt/conda/lib/python3.10/site-packages (from thriftpy2!=0.5.1,>=0.3.9->jqdatasdk<2,>=1->finrl==0.3.8) (3.1.0)\n",
            "Requirement already satisfied: ply<4.0,>=3.4 in /opt/conda/lib/python3.10/site-packages (from thriftpy2!=0.5.1,>=0.3.9->jqdatasdk<2,>=1->finrl==0.3.8) (3.11)\n",
            "Requirement already satisfied: MarkupSafe>=2.1.1 in /opt/conda/lib/python3.10/site-packages (from werkzeug>=1.0.1->tensorboard>=2.9.1->stable-baselines3[extra]>=2.0.0a5->finrl==0.3.8) (2.1.3)\n",
            "Requirement already satisfied: h11<1,>=0.9.0 in /opt/conda/lib/python3.10/site-packages (from wsproto>=0.14->trio-websocket~=0.9->selenium<5,>=4->finrl==0.3.8) (0.16.0)\n",
            "Requirement already satisfied: jsonschema-specifications>=2023.03.6 in /opt/conda/lib/python3.10/site-packages (from jsonschema->ray<3,>=2->ray[default,tune]<3,>=2->finrl==0.3.8) (2023.7.1)\n",
            "Requirement already satisfied: referencing>=0.28.4 in /opt/conda/lib/python3.10/site-packages (from jsonschema->ray<3,>=2->ray[default,tune]<3,>=2->finrl==0.3.8) (0.30.2)\n",
            "Requirement already satisfied: rpds-py>=0.7.1 in /opt/conda/lib/python3.10/site-packages (from jsonschema->ray<3,>=2->ray[default,tune]<3,>=2->finrl==0.3.8) (0.10.6)\n",
            "Requirement already satisfied: opencensus-context>=0.1.3 in /opt/conda/lib/python3.10/site-packages (from opencensus->ray[default,tune]<3,>=2->finrl==0.3.8) (0.1.3)\n",
            "Requirement already satisfied: google-api-core<3.0.0,>=1.0.0 in /opt/conda/lib/python3.10/site-packages (from opencensus->ray[default,tune]<3,>=2->finrl==0.3.8) (2.24.2)\n",
            "Requirement already satisfied: googleapis-common-protos<2.0.0,>=1.56.2 in /opt/conda/lib/python3.10/site-packages (from google-api-core<3.0.0,>=1.0.0->opencensus->ray[default,tune]<3,>=2->finrl==0.3.8) (1.70.0)\n",
            "Requirement already satisfied: proto-plus<2.0.0,>=1.22.3 in /opt/conda/lib/python3.10/site-packages (from google-api-core<3.0.0,>=1.0.0->opencensus->ray[default,tune]<3,>=2->finrl==0.3.8) (1.26.1)\n",
            "Requirement already satisfied: google-auth<3.0.0,>=2.14.1 in /opt/conda/lib/python3.10/site-packages (from google-api-core<3.0.0,>=1.0.0->opencensus->ray[default,tune]<3,>=2->finrl==0.3.8) (2.40.1)\n",
            "Requirement already satisfied: cachetools<6.0,>=2.0.0 in /opt/conda/lib/python3.10/site-packages (from google-auth<3.0.0,>=2.14.1->google-api-core<3.0.0,>=1.0.0->opencensus->ray[default,tune]<3,>=2->finrl==0.3.8) (5.5.2)\n",
            "Requirement already satisfied: pyasn1-modules>=0.2.1 in /opt/conda/lib/python3.10/site-packages (from google-auth<3.0.0,>=2.14.1->google-api-core<3.0.0,>=1.0.0->opencensus->ray[default,tune]<3,>=2->finrl==0.3.8) (0.4.2)\n",
            "Requirement already satisfied: rsa<5,>=3.1.4 in /opt/conda/lib/python3.10/site-packages (from google-auth<3.0.0,>=2.14.1->google-api-core<3.0.0,>=1.0.0->opencensus->ray[default,tune]<3,>=2->finrl==0.3.8) (4.9.1)\n",
            "Requirement already satisfied: pyasn1>=0.1.3 in /opt/conda/lib/python3.10/site-packages (from rsa<5,>=3.1.4->google-auth<3.0.0,>=2.14.1->google-api-core<3.0.0,>=1.0.0->opencensus->ray[default,tune]<3,>=2->finrl==0.3.8) (0.6.1)\n",
            "Requirement already satisfied: markdown-it-py>=2.2.0 in /opt/conda/lib/python3.10/site-packages (from rich->stable-baselines3[extra]>=2.0.0a5->finrl==0.3.8) (3.0.0)\n",
            "Requirement already satisfied: mdurl~=0.1 in /opt/conda/lib/python3.10/site-packages (from markdown-it-py>=2.2.0->rich->stable-baselines3[extra]>=2.0.0a5->finrl==0.3.8) (0.1.2)\n",
            "Requirement already satisfied: wrapt in /opt/conda/lib/python3.10/site-packages (from smart-open->ray[default,tune]<3,>=2->finrl==0.3.8) (1.17.2)\n",
            "Requirement already satisfied: executing in /opt/conda/lib/python3.10/site-packages (from stack-data->ipython>=3.2.3->pyfolio-reloaded<0.10,>=0.9->finrl==0.3.8) (0.8.3)\n",
            "Requirement already satisfied: asttokens in /opt/conda/lib/python3.10/site-packages (from stack-data->ipython>=3.2.3->pyfolio-reloaded<0.10,>=0.9->finrl==0.3.8) (2.0.5)\n",
            "Requirement already satisfied: pure-eval in /opt/conda/lib/python3.10/site-packages (from stack-data->ipython>=3.2.3->pyfolio-reloaded<0.10,>=0.9->finrl==0.3.8) (0.2.2)\n",
            "Requirement already satisfied: niltype<2.0,>=0.3 in /opt/conda/lib/python3.10/site-packages (from th->elegantrl@ git+https://github.com/AI4Finance-Foundation/ElegantRL.git->finrl==0.3.8) (1.0.2)\n",
            "Downloading virtualenv-20.21.0-py3-none-any.whl (8.7 MB)\n",
            "\u001b[2K   \u001b[90m━━━━━━━━━━━━━━━━━━━━━━━━━━━━━━━━━━━━━━━━\u001b[0m \u001b[32m8.7/8.7 MB\u001b[0m \u001b[31m61.2 MB/s\u001b[0m eta \u001b[36m0:00:00\u001b[0m\n",
            "\u001b[?25hDownloading blessed-1.21.0-py2.py3-none-any.whl (84 kB)\n",
            "Downloading nvidia_ml_py-12.575.51-py3-none-any.whl (47 kB)\n",
            "Using cached gymnasium-1.1.1-py3-none-any.whl (965 kB)\n",
            "Building wheels for collected packages: gpustat\n",
            "  Building wheel for gpustat (pyproject.toml) ... \u001b[?25l-\b \bdone\n",
            "\u001b[?25h  Created wheel for gpustat: filename=gpustat-1.1.1-py3-none-any.whl size=26666 sha256=3c7ae87788e8ac87eef2277d7fe3d9e4e0ebbea0c66e624d1642e45dfdd8304f\n",
            "  Stored in directory: /root/.cache/pip/wheels/ec/d7/80/a71ba3540900e1f276bcae685efd8e590c810d2108b95f1e47\n",
            "Successfully built gpustat\n",
            "Installing collected packages: nvidia-ml-py, virtualenv, gymnasium, blessed, gpustat\n",
            "\u001b[2K  Attempting uninstall: virtualenv\n",
            "\u001b[2K    Found existing installation: virtualenv 20.31.2\n",
            "\u001b[2K    Uninstalling virtualenv-20.31.2:\n",
            "\u001b[2K      Successfully uninstalled virtualenv-20.31.2\n",
            "\u001b[2K  Attempting uninstall: gymnasium\n",
            "\u001b[2K    Found existing installation: gymnasium 0.28.1\n",
            "\u001b[2K    Uninstalling gymnasium-0.28.1:\n",
            "\u001b[2K      Successfully uninstalled gymnasium-0.28.1\n",
            "\u001b[2K   \u001b[90m━━━━━━━━━━━━━━━━━━━━━━━━━━━━━━━━━━━━━━━━\u001b[0m \u001b[32m5/5\u001b[0m [gpustat]\n",
            "\u001b[1A\u001b[2KSuccessfully installed blessed-1.21.0 gpustat-1.1.1 gymnasium-1.1.1 nvidia-ml-py-12.575.51 virtualenv-20.21.0\n",
            "\u001b[33mWARNING: Running pip as the 'root' user can result in broken permissions and conflicting behaviour with the system package manager, possibly rendering your system unusable. It is recommended to use a virtual environment instead: https://pip.pypa.io/warnings/venv. Use the --root-user-action option if you know what you are doing and want to suppress this warning.\u001b[0m\u001b[33m\n",
            "\u001b[0mNote: you may need to restart the kernel to use updated packages.\n"
          ]
        }
      ]
    },
    {
      "cell_type": "code",
      "execution_count": 1,
      "metadata": {
        "id": "W_0SxBYTtWNB"
      },
      "outputs": [],
      "source": [
        "%%capture\n",
        "!pip install \"ray[tune]\" optuna"
      ]
    },
    {
      "cell_type": "code",
      "source": [
        "pip install \"ray[rllib]==2.9.0\""
      ],
      "metadata": {
        "id": "BhWIrq255IiR",
        "outputId": "1eb3b542-0460-499a-f084-796377ab8002",
        "colab": {
          "base_uri": "https://localhost:8080/"
        }
      },
      "execution_count": 3,
      "outputs": [
        {
          "output_type": "stream",
          "name": "stdout",
          "text": [
            "Collecting ray==2.9.0 (from ray[rllib]==2.9.0)\n",
            "  Downloading ray-2.9.0-cp310-cp310-manylinux2014_x86_64.whl.metadata (13 kB)\n",
            "Requirement already satisfied: click>=7.0 in /opt/conda/lib/python3.10/site-packages (from ray==2.9.0->ray[rllib]==2.9.0) (8.1.7)\n",
            "Requirement already satisfied: filelock in /opt/conda/lib/python3.10/site-packages (from ray==2.9.0->ray[rllib]==2.9.0) (3.18.0)\n",
            "Requirement already satisfied: jsonschema in /opt/conda/lib/python3.10/site-packages (from ray==2.9.0->ray[rllib]==2.9.0) (4.19.2)\n",
            "Requirement already satisfied: msgpack<2.0.0,>=1.0.0 in /opt/conda/lib/python3.10/site-packages (from ray==2.9.0->ray[rllib]==2.9.0) (1.0.3)\n",
            "Requirement already satisfied: packaging in /opt/conda/lib/python3.10/site-packages (from ray==2.9.0->ray[rllib]==2.9.0) (23.1)\n",
            "Requirement already satisfied: protobuf!=3.19.5,>=3.15.3 in /opt/conda/lib/python3.10/site-packages (from ray==2.9.0->ray[rllib]==2.9.0) (6.31.0)\n",
            "Requirement already satisfied: pyyaml in /opt/conda/lib/python3.10/site-packages (from ray==2.9.0->ray[rllib]==2.9.0) (6.0.1)\n",
            "Requirement already satisfied: aiosignal in /opt/conda/lib/python3.10/site-packages (from ray==2.9.0->ray[rllib]==2.9.0) (1.3.2)\n",
            "Requirement already satisfied: frozenlist in /opt/conda/lib/python3.10/site-packages (from ray==2.9.0->ray[rllib]==2.9.0) (1.6.0)\n",
            "Requirement already satisfied: requests in /opt/conda/lib/python3.10/site-packages (from ray==2.9.0->ray[rllib]==2.9.0) (2.31.0)\n",
            "Requirement already satisfied: pandas in /opt/conda/lib/python3.10/site-packages (from ray[rllib]==2.9.0) (2.2.3)\n",
            "Requirement already satisfied: tensorboardX>=1.9 in /opt/conda/lib/python3.10/site-packages (from ray[rllib]==2.9.0) (2.6.2.2)\n",
            "Requirement already satisfied: pyarrow>=6.0.1 in /opt/conda/lib/python3.10/site-packages (from ray[rllib]==2.9.0) (19.0.1)\n",
            "Requirement already satisfied: fsspec in /opt/conda/lib/python3.10/site-packages (from ray[rllib]==2.9.0) (2024.2.0)\n",
            "Requirement already satisfied: dm-tree in /opt/conda/lib/python3.10/site-packages (from ray[rllib]==2.9.0) (0.1.9)\n",
            "Collecting gymnasium==0.28.1 (from ray[rllib]==2.9.0)\n",
            "  Downloading gymnasium-0.28.1-py3-none-any.whl.metadata (9.2 kB)\n",
            "Requirement already satisfied: lz4 in /opt/conda/lib/python3.10/site-packages (from ray[rllib]==2.9.0) (4.4.4)\n",
            "Collecting scikit-image (from ray[rllib]==2.9.0)\n",
            "  Downloading scikit_image-0.25.2-cp310-cp310-manylinux_2_17_x86_64.manylinux2014_x86_64.whl.metadata (14 kB)\n",
            "Requirement already satisfied: scipy in /opt/conda/lib/python3.10/site-packages (from ray[rllib]==2.9.0) (1.15.3)\n",
            "Collecting typer (from ray[rllib]==2.9.0)\n",
            "  Downloading typer-0.15.4-py3-none-any.whl.metadata (15 kB)\n",
            "Requirement already satisfied: rich in /opt/conda/lib/python3.10/site-packages (from ray[rllib]==2.9.0) (14.0.0)\n",
            "Requirement already satisfied: numpy>=1.21.0 in /opt/conda/lib/python3.10/site-packages (from gymnasium==0.28.1->ray[rllib]==2.9.0) (1.26.4)\n",
            "Collecting jax-jumpy>=1.0.0 (from gymnasium==0.28.1->ray[rllib]==2.9.0)\n",
            "  Downloading jax_jumpy-1.0.0-py3-none-any.whl.metadata (15 kB)\n",
            "Requirement already satisfied: cloudpickle>=1.2.0 in /opt/conda/lib/python3.10/site-packages (from gymnasium==0.28.1->ray[rllib]==2.9.0) (3.1.1)\n",
            "Requirement already satisfied: typing-extensions>=4.3.0 in /opt/conda/lib/python3.10/site-packages (from gymnasium==0.28.1->ray[rllib]==2.9.0) (4.13.2)\n",
            "Requirement already satisfied: farama-notifications>=0.0.1 in /opt/conda/lib/python3.10/site-packages (from gymnasium==0.28.1->ray[rllib]==2.9.0) (0.0.4)\n",
            "Requirement already satisfied: absl-py>=0.6.1 in /opt/conda/lib/python3.10/site-packages (from dm-tree->ray[rllib]==2.9.0) (2.2.2)\n",
            "Requirement already satisfied: attrs>=18.2.0 in /opt/conda/lib/python3.10/site-packages (from dm-tree->ray[rllib]==2.9.0) (25.3.0)\n",
            "Requirement already satisfied: wrapt>=1.11.2 in /opt/conda/lib/python3.10/site-packages (from dm-tree->ray[rllib]==2.9.0) (1.17.2)\n",
            "Requirement already satisfied: jsonschema-specifications>=2023.03.6 in /opt/conda/lib/python3.10/site-packages (from jsonschema->ray==2.9.0->ray[rllib]==2.9.0) (2023.7.1)\n",
            "Requirement already satisfied: referencing>=0.28.4 in /opt/conda/lib/python3.10/site-packages (from jsonschema->ray==2.9.0->ray[rllib]==2.9.0) (0.30.2)\n",
            "Requirement already satisfied: rpds-py>=0.7.1 in /opt/conda/lib/python3.10/site-packages (from jsonschema->ray==2.9.0->ray[rllib]==2.9.0) (0.10.6)\n",
            "Requirement already satisfied: python-dateutil>=2.8.2 in /opt/conda/lib/python3.10/site-packages (from pandas->ray[rllib]==2.9.0) (2.9.0.post0)\n",
            "Requirement already satisfied: pytz>=2020.1 in /opt/conda/lib/python3.10/site-packages (from pandas->ray[rllib]==2.9.0) (2023.3.post1)\n",
            "Requirement already satisfied: tzdata>=2022.7 in /opt/conda/lib/python3.10/site-packages (from pandas->ray[rllib]==2.9.0) (2025.2)\n",
            "Requirement already satisfied: six>=1.5 in /opt/conda/lib/python3.10/site-packages (from python-dateutil>=2.8.2->pandas->ray[rllib]==2.9.0) (1.16.0)\n",
            "Requirement already satisfied: charset-normalizer<4,>=2 in /opt/conda/lib/python3.10/site-packages (from requests->ray==2.9.0->ray[rllib]==2.9.0) (2.0.4)\n",
            "Requirement already satisfied: idna<4,>=2.5 in /opt/conda/lib/python3.10/site-packages (from requests->ray==2.9.0->ray[rllib]==2.9.0) (3.4)\n",
            "Requirement already satisfied: urllib3<3,>=1.21.1 in /opt/conda/lib/python3.10/site-packages (from requests->ray==2.9.0->ray[rllib]==2.9.0) (1.26.20)\n",
            "Requirement already satisfied: certifi>=2017.4.17 in /opt/conda/lib/python3.10/site-packages (from requests->ray==2.9.0->ray[rllib]==2.9.0) (2024.2.2)\n",
            "Requirement already satisfied: markdown-it-py>=2.2.0 in /opt/conda/lib/python3.10/site-packages (from rich->ray[rllib]==2.9.0) (3.0.0)\n",
            "Requirement already satisfied: pygments<3.0.0,>=2.13.0 in /opt/conda/lib/python3.10/site-packages (from rich->ray[rllib]==2.9.0) (2.15.1)\n",
            "Requirement already satisfied: mdurl~=0.1 in /opt/conda/lib/python3.10/site-packages (from markdown-it-py>=2.2.0->rich->ray[rllib]==2.9.0) (0.1.2)\n",
            "Requirement already satisfied: networkx>=3.0 in /opt/conda/lib/python3.10/site-packages (from scikit-image->ray[rllib]==2.9.0) (3.1)\n",
            "Requirement already satisfied: pillow>=10.1 in /opt/conda/lib/python3.10/site-packages (from scikit-image->ray[rllib]==2.9.0) (10.2.0)\n",
            "Collecting imageio!=2.35.0,>=2.33 (from scikit-image->ray[rllib]==2.9.0)\n",
            "  Downloading imageio-2.37.0-py3-none-any.whl.metadata (5.2 kB)\n",
            "Collecting tifffile>=2022.8.12 (from scikit-image->ray[rllib]==2.9.0)\n",
            "  Downloading tifffile-2025.5.10-py3-none-any.whl.metadata (31 kB)\n",
            "Collecting lazy-loader>=0.4 (from scikit-image->ray[rllib]==2.9.0)\n",
            "  Downloading lazy_loader-0.4-py3-none-any.whl.metadata (7.6 kB)\n",
            "Collecting shellingham>=1.3.0 (from typer->ray[rllib]==2.9.0)\n",
            "  Downloading shellingham-1.5.4-py2.py3-none-any.whl.metadata (3.5 kB)\n",
            "Downloading ray-2.9.0-cp310-cp310-manylinux2014_x86_64.whl (64.9 MB)\n",
            "\u001b[2K   \u001b[90m━━━━━━━━━━━━━━━━━━━━━━━━━━━━━━━━━━━━━━━━\u001b[0m \u001b[32m64.9/64.9 MB\u001b[0m \u001b[31m39.3 MB/s\u001b[0m eta \u001b[36m0:00:00\u001b[0m\n",
            "\u001b[?25hDownloading gymnasium-0.28.1-py3-none-any.whl (925 kB)\n",
            "\u001b[2K   \u001b[90m━━━━━━━━━━━━━━━━━━━━━━━━━━━━━━━━━━━━━━━━\u001b[0m \u001b[32m925.5/925.5 kB\u001b[0m \u001b[31m86.4 MB/s\u001b[0m eta \u001b[36m0:00:00\u001b[0m\n",
            "\u001b[?25hDownloading jax_jumpy-1.0.0-py3-none-any.whl (20 kB)\n",
            "Downloading scikit_image-0.25.2-cp310-cp310-manylinux_2_17_x86_64.manylinux2014_x86_64.whl (14.8 MB)\n",
            "\u001b[2K   \u001b[90m━━━━━━━━━━━━━━━━━━━━━━━━━━━━━━━━━━━━━━━━\u001b[0m \u001b[32m14.8/14.8 MB\u001b[0m \u001b[31m227.0 MB/s\u001b[0m eta \u001b[36m0:00:00\u001b[0m\n",
            "\u001b[?25hDownloading imageio-2.37.0-py3-none-any.whl (315 kB)\n",
            "Downloading lazy_loader-0.4-py3-none-any.whl (12 kB)\n",
            "Downloading tifffile-2025.5.10-py3-none-any.whl (226 kB)\n",
            "Downloading typer-0.15.4-py3-none-any.whl (45 kB)\n",
            "Downloading shellingham-1.5.4-py2.py3-none-any.whl (9.8 kB)\n",
            "Installing collected packages: tifffile, shellingham, lazy-loader, jax-jumpy, imageio, scikit-image, gymnasium, typer, ray\n",
            "\u001b[2K  Attempting uninstall: gymnasium\n",
            "\u001b[2K    Found existing installation: gymnasium 1.0.0\n",
            "\u001b[2K    Uninstalling gymnasium-1.0.0:\n",
            "\u001b[2K      Successfully uninstalled gymnasium-1.0.0\n",
            "\u001b[2K  Attempting uninstall: ray\n",
            "\u001b[2K    Found existing installation: ray 2.46.0\n",
            "\u001b[2K    Uninstalling ray-2.46.0:\n",
            "\u001b[2K      Successfully uninstalled ray-2.46.0\n",
            "\u001b[2K   \u001b[90m━━━━━━━━━━━━━━━━━━━━━━━━━━━━━━━━━━━━━━━━\u001b[0m \u001b[32m9/9\u001b[0m [ray]\n",
            "\u001b[1A\u001b[2K\u001b[31mERROR: pip's dependency resolver does not currently take into account all the packages that are installed. This behaviour is the source of the following dependency conflicts.\n",
            "stable-baselines3 2.6.1a1 requires gymnasium<1.2.0,>=0.29.1, but you have gymnasium 0.28.1 which is incompatible.\u001b[0m\u001b[31m\n",
            "\u001b[0mSuccessfully installed gymnasium-0.28.1 imageio-2.37.0 jax-jumpy-1.0.0 lazy-loader-0.4 ray-2.9.0 scikit-image-0.25.2 shellingham-1.5.4 tifffile-2025.5.10 typer-0.15.4\n",
            "\u001b[33mWARNING: Running pip as the 'root' user can result in broken permissions and conflicting behaviour with the system package manager, possibly rendering your system unusable. It is recommended to use a virtual environment instead: https://pip.pypa.io/warnings/venv. Use the --root-user-action option if you know what you are doing and want to suppress this warning.\u001b[0m\u001b[33m\n",
            "\u001b[0mNote: you may need to restart the kernel to use updated packages.\n"
          ]
        }
      ]
    },
    {
      "cell_type": "code",
      "source": [
        "pip install \"setuptools==65.6.3\""
      ],
      "metadata": {
        "id": "Hv9ThTiE53z2",
        "outputId": "0b4d6c51-c88d-4ee4-ca6b-8b39195b1174",
        "colab": {
          "base_uri": "https://localhost:8080/"
        }
      },
      "execution_count": 2,
      "outputs": [
        {
          "output_type": "stream",
          "name": "stdout",
          "text": [
            "Collecting setuptools==65.6.3\n",
            "  Downloading setuptools-65.6.3-py3-none-any.whl.metadata (6.1 kB)\n",
            "Downloading setuptools-65.6.3-py3-none-any.whl (1.2 MB)\n",
            "\u001b[2K   \u001b[90m━━━━━━━━━━━━━━━━━━━━━━━━━━━━━━━━━━━━━━━━\u001b[0m \u001b[32m1.2/1.2 MB\u001b[0m \u001b[31m12.3 MB/s\u001b[0m eta \u001b[36m0:00:00\u001b[0m\n",
            "\u001b[?25hInstalling collected packages: setuptools\n",
            "  Attempting uninstall: setuptools\n",
            "    Found existing installation: setuptools 80.7.1\n",
            "    Uninstalling setuptools-80.7.1:\n",
            "      Successfully uninstalled setuptools-80.7.1\n",
            "\u001b[31mERROR: pip's dependency resolver does not currently take into account all the packages that are installed. This behaviour is the source of the following dependency conflicts.\n",
            "conda 23.9.0 requires ruamel-yaml<0.18,>=0.11.14, but you have ruamel-yaml 0.18.10 which is incompatible.\u001b[0m\u001b[31m\n",
            "\u001b[0mSuccessfully installed setuptools-65.6.3\n",
            "\u001b[33mWARNING: Running pip as the 'root' user can result in broken permissions and conflicting behaviour with the system package manager, possibly rendering your system unusable. It is recommended to use a virtual environment instead: https://pip.pypa.io/warnings/venv. Use the --root-user-action option if you know what you are doing and want to suppress this warning.\u001b[0m\u001b[33m\n",
            "\u001b[0mNote: you may need to restart the kernel to use updated packages.\n"
          ]
        }
      ]
    },
    {
      "cell_type": "code",
      "execution_count": 2,
      "metadata": {
        "id": "kW4g9mfwMl7K"
      },
      "outputs": [],
      "source": [
        "%%capture\n",
        "!pip install int_date==0.1.8"
      ]
    },
    {
      "cell_type": "code",
      "source": [
        "pip install pandas > log.txt"
      ],
      "metadata": {
        "id": "HNaSBgs14jW4",
        "outputId": "f267427d-9795-45b0-9fc0-0920266da7f5",
        "colab": {
          "base_uri": "https://localhost:8080/"
        }
      },
      "execution_count": 6,
      "outputs": [
        {
          "output_type": "stream",
          "name": "stdout",
          "text": [
            "\u001b[33mWARNING: Running pip as the 'root' user can result in broken permissions and conflicting behaviour with the system package manager, possibly rendering your system unusable. It is recommended to use a virtual environment instead: https://pip.pypa.io/warnings/venv. Use the --root-user-action option if you know what you are doing and want to suppress this warning.\u001b[0m\u001b[33m\r\n",
            "\u001b[0mNote: you may need to restart the kernel to use updated packages.\n"
          ]
        }
      ]
    },
    {
      "cell_type": "code",
      "source": [
        "pip install pandas_market_calendars tree dm_tree"
      ],
      "metadata": {
        "id": "mPbCzOPm4wtL",
        "outputId": "1f95c5c3-a515-4b01-a7f5-06ebd445d15a",
        "colab": {
          "base_uri": "https://localhost:8080/"
        }
      },
      "execution_count": 4,
      "outputs": [
        {
          "output_type": "stream",
          "name": "stdout",
          "text": [
            "Requirement already satisfied: pandas_market_calendars in /opt/conda/lib/python3.10/site-packages (5.1.0)\n",
            "Requirement already satisfied: tree in /opt/conda/lib/python3.10/site-packages (0.2.4)\n",
            "Requirement already satisfied: dm_tree in /opt/conda/lib/python3.10/site-packages (0.1.9)\n",
            "Requirement already satisfied: ray[rllib] in /opt/conda/lib/python3.10/site-packages (2.46.0)\n",
            "Requirement already satisfied: pandas>=1.1 in /opt/conda/lib/python3.10/site-packages (from pandas_market_calendars) (2.2.3)\n",
            "Requirement already satisfied: tzdata in /opt/conda/lib/python3.10/site-packages (from pandas_market_calendars) (2025.2)\n",
            "Requirement already satisfied: python-dateutil in /opt/conda/lib/python3.10/site-packages (from pandas_market_calendars) (2.9.0.post0)\n",
            "Requirement already satisfied: exchange-calendars>=3.3 in /opt/conda/lib/python3.10/site-packages (from pandas_market_calendars) (4.10.1)\n",
            "Requirement already satisfied: Pillow in /opt/conda/lib/python3.10/site-packages (from tree) (10.2.0)\n",
            "Requirement already satisfied: svgwrite in /opt/conda/lib/python3.10/site-packages (from tree) (1.4.3)\n",
            "Requirement already satisfied: setuptools in /opt/conda/lib/python3.10/site-packages (from tree) (80.7.1)\n",
            "Requirement already satisfied: click in /opt/conda/lib/python3.10/site-packages (from tree) (8.1.7)\n",
            "Requirement already satisfied: absl-py>=0.6.1 in /opt/conda/lib/python3.10/site-packages (from dm_tree) (2.2.2)\n",
            "Requirement already satisfied: attrs>=18.2.0 in /opt/conda/lib/python3.10/site-packages (from dm_tree) (25.3.0)\n",
            "Requirement already satisfied: numpy>=1.21 in /opt/conda/lib/python3.10/site-packages (from dm_tree) (1.26.4)\n",
            "Requirement already satisfied: wrapt>=1.11.2 in /opt/conda/lib/python3.10/site-packages (from dm_tree) (1.17.2)\n",
            "Requirement already satisfied: filelock in /opt/conda/lib/python3.10/site-packages (from ray[rllib]) (3.18.0)\n",
            "Requirement already satisfied: jsonschema in /opt/conda/lib/python3.10/site-packages (from ray[rllib]) (4.19.2)\n",
            "Requirement already satisfied: msgpack<2.0.0,>=1.0.0 in /opt/conda/lib/python3.10/site-packages (from ray[rllib]) (1.0.3)\n",
            "Requirement already satisfied: packaging in /opt/conda/lib/python3.10/site-packages (from ray[rllib]) (23.1)\n",
            "Requirement already satisfied: protobuf!=3.19.5,>=3.15.3 in /opt/conda/lib/python3.10/site-packages (from ray[rllib]) (6.31.0)\n",
            "Requirement already satisfied: pyyaml in /opt/conda/lib/python3.10/site-packages (from ray[rllib]) (6.0.1)\n",
            "Requirement already satisfied: requests in /opt/conda/lib/python3.10/site-packages (from ray[rllib]) (2.31.0)\n",
            "Requirement already satisfied: tensorboardX>=1.9 in /opt/conda/lib/python3.10/site-packages (from ray[rllib]) (2.6.2.2)\n",
            "Requirement already satisfied: pyarrow>=9.0.0 in /opt/conda/lib/python3.10/site-packages (from ray[rllib]) (19.0.1)\n",
            "Requirement already satisfied: fsspec in /opt/conda/lib/python3.10/site-packages (from ray[rllib]) (2024.2.0)\n",
            "Collecting gymnasium==1.0.0 (from ray[rllib])\n",
            "  Downloading gymnasium-1.0.0-py3-none-any.whl.metadata (9.5 kB)\n",
            "Requirement already satisfied: lz4 in /opt/conda/lib/python3.10/site-packages (from ray[rllib]) (4.4.4)\n",
            "Collecting ormsgpack==1.7.0 (from ray[rllib])\n",
            "  Downloading ormsgpack-1.7.0-cp310-cp310-manylinux_2_17_x86_64.manylinux2014_x86_64.whl.metadata (43 kB)\n",
            "Requirement already satisfied: scipy in /opt/conda/lib/python3.10/site-packages (from ray[rllib]) (1.15.3)\n",
            "Requirement already satisfied: cloudpickle>=1.2.0 in /opt/conda/lib/python3.10/site-packages (from gymnasium==1.0.0->ray[rllib]) (3.1.1)\n",
            "Requirement already satisfied: typing-extensions>=4.3.0 in /opt/conda/lib/python3.10/site-packages (from gymnasium==1.0.0->ray[rllib]) (4.13.2)\n",
            "Requirement already satisfied: farama-notifications>=0.0.1 in /opt/conda/lib/python3.10/site-packages (from gymnasium==1.0.0->ray[rllib]) (0.0.4)\n",
            "Requirement already satisfied: pyluach in /opt/conda/lib/python3.10/site-packages (from exchange-calendars>=3.3->pandas_market_calendars) (2.2.0)\n",
            "Requirement already satisfied: toolz in /opt/conda/lib/python3.10/site-packages (from exchange-calendars>=3.3->pandas_market_calendars) (0.12.0)\n",
            "Requirement already satisfied: korean_lunar_calendar in /opt/conda/lib/python3.10/site-packages (from exchange-calendars>=3.3->pandas_market_calendars) (0.3.1)\n",
            "Requirement already satisfied: pytz>=2020.1 in /opt/conda/lib/python3.10/site-packages (from pandas>=1.1->pandas_market_calendars) (2023.3.post1)\n",
            "Requirement already satisfied: six>=1.5 in /opt/conda/lib/python3.10/site-packages (from python-dateutil->pandas_market_calendars) (1.16.0)\n",
            "Requirement already satisfied: jsonschema-specifications>=2023.03.6 in /opt/conda/lib/python3.10/site-packages (from jsonschema->ray[rllib]) (2023.7.1)\n",
            "Requirement already satisfied: referencing>=0.28.4 in /opt/conda/lib/python3.10/site-packages (from jsonschema->ray[rllib]) (0.30.2)\n",
            "Requirement already satisfied: rpds-py>=0.7.1 in /opt/conda/lib/python3.10/site-packages (from jsonschema->ray[rllib]) (0.10.6)\n",
            "Requirement already satisfied: charset-normalizer<4,>=2 in /opt/conda/lib/python3.10/site-packages (from requests->ray[rllib]) (2.0.4)\n",
            "Requirement already satisfied: idna<4,>=2.5 in /opt/conda/lib/python3.10/site-packages (from requests->ray[rllib]) (3.4)\n",
            "Requirement already satisfied: urllib3<3,>=1.21.1 in /opt/conda/lib/python3.10/site-packages (from requests->ray[rllib]) (1.26.20)\n",
            "Requirement already satisfied: certifi>=2017.4.17 in /opt/conda/lib/python3.10/site-packages (from requests->ray[rllib]) (2024.2.2)\n",
            "Downloading gymnasium-1.0.0-py3-none-any.whl (958 kB)\n",
            "\u001b[2K   \u001b[90m━━━━━━━━━━━━━━━━━━━━━━━━━━━━━━━━━━━━━━━━\u001b[0m \u001b[32m958.1/958.1 kB\u001b[0m \u001b[31m16.7 MB/s\u001b[0m eta \u001b[36m0:00:00\u001b[0m\n",
            "\u001b[?25hDownloading ormsgpack-1.7.0-cp310-cp310-manylinux_2_17_x86_64.manylinux2014_x86_64.whl (220 kB)\n",
            "Installing collected packages: ormsgpack, gymnasium\n",
            "\u001b[2K  Attempting uninstall: gymnasium\n",
            "\u001b[2K    Found existing installation: gymnasium 1.1.1\n",
            "\u001b[2K    Uninstalling gymnasium-1.1.1:\n",
            "\u001b[2K      Successfully uninstalled gymnasium-1.1.1\n",
            "\u001b[2K   \u001b[90m━━━━━━━━━━━━━━━━━━━━━━━━━━━━━━━━━━━━━━━━\u001b[0m \u001b[32m2/2\u001b[0m [gymnasium]\n",
            "\u001b[1A\u001b[2KSuccessfully installed gymnasium-1.0.0 ormsgpack-1.7.0\n",
            "\u001b[33mWARNING: Running pip as the 'root' user can result in broken permissions and conflicting behaviour with the system package manager, possibly rendering your system unusable. It is recommended to use a virtual environment instead: https://pip.pypa.io/warnings/venv. Use the --root-user-action option if you know what you are doing and want to suppress this warning.\u001b[0m\u001b[33m\n",
            "\u001b[0mNote: you may need to restart the kernel to use updated packages.\n"
          ]
        }
      ]
    },
    {
      "cell_type": "markdown",
      "metadata": {
        "id": "lPh7bRBVL9u3"
      },
      "source": [
        "#Importing libraries"
      ]
    },
    {
      "cell_type": "code",
      "execution_count": 11,
      "metadata": {
        "id": "AnFm0-vntYQw"
      },
      "outputs": [],
      "source": [
        "# Importing the libraries\n",
        "import pandas as pd\n",
        "import numpy as np\n",
        "import matplotlib\n",
        "import matplotlib.pyplot as plt\n",
        "# matplotlib.use('Agg')\n",
        "import datetime\n",
        "import optuna\n",
        "%matplotlib inline\n",
        "from finrl import config\n",
        "from finrl.meta.preprocessor.yahoodownloader import YahooDownloader\n",
        "from finrl.meta.preprocessor.preprocessors import FeatureEngineer, data_split\n",
        "from finrl.meta.env_stock_trading.env_stocktrading_np import StockTradingEnv as StockTradingEnv_numpy\n",
        "from finrl.agents.rllib.models import DRLAgent as DRLAgent_rllib\n",
        "from stable_baselines3.common.vec_env import DummyVecEnv\n",
        "from finrl.meta.data_processor import DataProcessor\n",
        "from finrl.plot import backtest_stats, backtest_plot, get_daily_return, get_baseline\n",
        "import ray\n",
        "from pprint import pprint\n",
        "from ray.rllib.algorithms.ppo import PPO, PPO as ppo\n",
        "from ray.rllib.algorithms.ddpg import DDPG, DDPG as ddpg\n",
        "from ray.rllib.algorithms.a2c import A2C, A2C as a2c\n",
        "from ray.rllib.algorithms.td3 import TD3, TD3 as td3\n",
        "from ray.rllib.algorithms.sac import SAC, SAC as sac\n",
        "import sys\n",
        "sys.path.append(\"../FinRL-Library\")\n",
        "import os\n",
        "import itertools\n",
        "from ray import tune\n",
        "from ray.tune.search import ConcurrencyLimiter\n",
        "from ray.tune.search.optuna import OptunaSearch\n",
        "from ray.tune.schedulers import AsyncHyperBandScheduler\n",
        "from ray.tune.registry import register_env\n",
        "import time\n",
        "import psutil\n",
        "psutil_memory_in_bytes = psutil.virtual_memory().total\n",
        "ray._private.utils.get_system_memory = lambda: psutil_memory_in_bytes\n",
        "from typing import Dict, Optional, Any"
      ]
    },
    {
      "cell_type": "code",
      "execution_count": 12,
      "metadata": {
        "id": "F6DvqEVi3rxv"
      },
      "outputs": [],
      "source": [
        "import os\n",
        "if not os.path.exists(\"./\" + config.DATA_SAVE_DIR):\n",
        "    os.makedirs(\"./\" + config.DATA_SAVE_DIR)\n",
        "if not os.path.exists(\"./\" + config.TRAINED_MODEL_DIR):\n",
        "    os.makedirs(\"./\" + config.TRAINED_MODEL_DIR)\n",
        "if not os.path.exists(\"./\" + config.TENSORBOARD_LOG_DIR):\n",
        "    os.makedirs(\"./\" + config.TENSORBOARD_LOG_DIR)\n",
        "if not os.path.exists(\"./\" + config.RESULTS_DIR):\n",
        "    os.makedirs(\"./\" + config.RESULTS_DIR)\n",
        "# if not os.path.exists(\"./\" + \"tuned_models\"):\n",
        "#     os.makedirs(\"./\" + \"tuned_models\")"
      ]
    },
    {
      "cell_type": "markdown",
      "metadata": {
        "id": "rUTc0CApMCQP"
      },
      "source": [
        "##Defining the hyperparameter search space\n",
        "\n",
        "1. You can look up [here](https://docs.ray.io/en/latest/tune/key-concepts.html#search-spaces) to learn how to define hyperparameter search space\n",
        "2. Jump over to this [link](https://github.com/DLR-RM/rl-baselines3-zoo/blob/master/utils/hyperparams_opt.py) to find the range of different hyperparameter\n",
        "3. To learn about different hyperparameters for different algorithms for RLlib models, jump over to this [link](https://docs.ray.io/en/latest/rllib-algorithms.html)"
      ]
    },
    {
      "cell_type": "code",
      "execution_count": 13,
      "metadata": {
        "id": "c5luix7ZydIG"
      },
      "outputs": [],
      "source": [
        "def sample_ddpg_params():\n",
        "\n",
        "  return {\n",
        "  \"buffer_size\": tune.choice([int(1e4), int(1e5), int(1e6)]),\n",
        "  \"lr\": tune.loguniform(1e-5, 1),\n",
        "  \"train_batch_size\": tune.choice([32, 64, 128, 256, 512])\n",
        "  }\n",
        "def sample_a2c_params():\n",
        "\n",
        "  return{\n",
        "       \"lambda\": tune.choice([0.1,0.3,0.5,0.7,0.9,1.0]),\n",
        "      \"entropy_coeff\": tune.loguniform(0.00000001, 0.1),\n",
        "      \"lr\": tune.loguniform(1e-5, 1)\n",
        "\n",
        "  }\n",
        "\n",
        "def sample_ppo_params():\n",
        "  return {\n",
        "      \"entropy_coeff\": tune.loguniform(0.00000001, 0.1),\n",
        "      \"lr\": tune.loguniform(5e-5, 1),\n",
        "      \"sgd_minibatch_size\": tune.choice([ 32, 64, 128, 256, 512]),\n",
        "      \"lambda\": tune.choice([0.1,0.3,0.5,0.7,0.9,1.0])\n",
        "  }\n",
        ""
      ]
    },
    {
      "cell_type": "code",
      "execution_count": 15,
      "metadata": {
        "id": "Yb3PMaAZ2gUy"
      },
      "outputs": [],
      "source": [
        "MODELS = {\"a2c\": a2c, \"ddpg\": ddpg, \"td3\": td3, \"sac\": sac, \"ppo\": ppo}"
      ]
    },
    {
      "cell_type": "markdown",
      "metadata": {
        "id": "ZWG4u7NsOI98"
      },
      "source": [
        "## Getting the training and testing environment"
      ]
    },
    {
      "cell_type": "code",
      "execution_count": 14,
      "metadata": {
        "id": "HmEAS3Vmt2d2"
      },
      "outputs": [],
      "source": [
        "def get_train_env(start_date, end_date, ticker_list, data_source, time_interval,\n",
        "          technical_indicator_list, env, model_name, if_vix = True,\n",
        "          **kwargs):\n",
        "\n",
        "    #fetch data\n",
        "    DP = DataProcessor(data_source, **kwargs)\n",
        "    data = DP.download_data(ticker_list, start_date, end_date, time_interval)\n",
        "    data = DP.clean_data(data)\n",
        "    data = DP.add_technical_indicator(data, technical_indicator_list)\n",
        "    if if_vix:\n",
        "        data = DP.add_vix(data)\n",
        "    price_array, tech_array, turbulence_array = DP.df_to_array(data, if_vix)\n",
        "    train_env_config = {'price_array':price_array,\n",
        "              'tech_array':tech_array,\n",
        "              'turbulence_array':turbulence_array,\n",
        "              'if_train':True}\n",
        "\n",
        "    return train_env_config"
      ]
    },
    {
      "cell_type": "code",
      "execution_count": 16,
      "metadata": {
        "id": "Sx6O3qevuaDC"
      },
      "outputs": [],
      "source": [
        "#Function to calculate the sharpe ratio from the list of total_episode_reward\n",
        "def calculate_sharpe(episode_reward:list):\n",
        "  perf_data = pd.DataFrame(data=episode_reward,columns=['reward'])\n",
        "  perf_data['daily_return'] = perf_data['reward'].pct_change(1)\n",
        "  if perf_data['daily_return'].std() !=0:\n",
        "    sharpe = (252**0.5)*perf_data['daily_return'].mean()/ \\\n",
        "          perf_data['daily_return'].std()\n",
        "    return sharpe\n",
        "  else:\n",
        "    return 0\n",
        "\n",
        "def get_test_config(start_date, end_date, ticker_list, data_source, time_interval,\n",
        "         technical_indicator_list, env, model_name, if_vix = True,\n",
        "         **kwargs):\n",
        "\n",
        "  DP = DataProcessor(data_source, **kwargs)\n",
        "  data = DP.download_data(ticker_list, start_date, end_date, time_interval)\n",
        "  data = DP.clean_data(data)\n",
        "  data = DP.add_technical_indicator(data, technical_indicator_list)\n",
        "\n",
        "  if if_vix:\n",
        "      data = DP.add_vix(data)\n",
        "\n",
        "  price_array, tech_array, turbulence_array = DP.df_to_array(data, if_vix)\n",
        "  test_env_config = {'price_array':price_array,\n",
        "            'tech_array':tech_array,\n",
        "            'turbulence_array':turbulence_array,'if_train':False}\n",
        "  return test_env_config\n",
        "\n",
        "def val_or_test(test_env_config,agent_path,model_name,env):\n",
        "  episode_total_reward = DRL_prediction(model_name,test_env_config,\n",
        "                                env = env,\n",
        "                                agent_path=agent_path)\n",
        "\n",
        "\n",
        "  return calculate_sharpe(episode_total_reward),episode_total_reward"
      ]
    },
    {
      "cell_type": "code",
      "execution_count": 18,
      "metadata": {
        "id": "HM12Fz7IrN4P"
      },
      "outputs": [],
      "source": [
        "TRAIN_START_DATE = '2014-01-01'\n",
        "TRAIN_END_DATE = '2019-07-30'\n",
        "\n",
        "VAL_START_DATE = '2019-08-01'\n",
        "VAL_END_DATE = '2020-07-30'\n",
        "\n",
        "TEST_START_DATE = '2020-08-01'\n",
        "TEST_END_DATE = '2025-05-18'"
      ]
    },
    {
      "cell_type": "code",
      "execution_count": null,
      "metadata": {
        "id": "tjrZFwhLsHHH"
      },
      "outputs": [],
      "source": [
        "technical_indicator_list =config.INDICATORS\n",
        "\n",
        "model_name = 'a2c'\n",
        "env = StockTradingEnv_numpy\n",
        "ticker_list = ['TSLA']\n",
        "data_source = 'yahoofinance'\n",
        "time_interval = '1D'"
      ]
    },
    {
      "cell_type": "code",
      "execution_count": null,
      "metadata": {
        "colab": {
          "base_uri": "https://localhost:8080/"
        },
        "id": "ZwzmewVuyp6m",
        "outputId": "80f8ebb3-fbac-46ac-887b-ac37a9bdf6cd"
      },
      "outputs": [
        {
          "name": "stdout",
          "output_type": "stream",
          "text": [
            "\r[*********************100%***********************]  1 of 1 completed\n",
            "Shape of DataFrame:  (1655, 9)\n",
            "Clean data for TSLA\n",
            "Data clean for TSLA is finished.\n",
            "Data clean all finished!\n",
            "[*********************100%***********************]  1 of 1 completed\n",
            "Shape of DataFrame:  (1655, 9)\n",
            "Clean data for ^VIX\n",
            "Data clean for ^VIX is finished.\n",
            "Data clean all finished!\n",
            "['TSLA']\n",
            "Successfully transformed into array\n"
          ]
        }
      ],
      "source": [
        "train_env_config = get_train_env(TRAIN_START_DATE, VAL_END_DATE,\n",
        "                     ticker_list, data_source, time_interval,\n",
        "                        technical_indicator_list, env, model_name)"
      ]
    },
    {
      "cell_type": "markdown",
      "metadata": {
        "id": "pplgHdQtOOQH"
      },
      "source": [
        "## Registering the environment"
      ]
    },
    {
      "cell_type": "code",
      "execution_count": null,
      "metadata": {
        "id": "QS0ytuI8KFf5"
      },
      "outputs": [],
      "source": [
        "from ray.tune.registry import register_env\n",
        "\n",
        "env_name = 'StockTrading_train_env'\n",
        "register_env(env_name, lambda config: env(train_env_config))"
      ]
    },
    {
      "cell_type": "markdown",
      "metadata": {
        "id": "0toGh9-_OThw"
      },
      "source": [
        "## Running tune"
      ]
    },
    {
      "cell_type": "code",
      "execution_count": null,
      "metadata": {
        "id": "SbF64_hRsqhT"
      },
      "outputs": [],
      "source": [
        "MODEL_TRAINER = {'a2c':A2CTrainer,'ppo':PPOTrainer,'ddpg':DDPGTrainer}\n",
        "if model_name == \"ddpg\":\n",
        "    sample_hyperparameters = sample_ddpg_params()\n",
        "elif model_name == \"ppo\":\n",
        "  sample_hyperparameters = sample_ppo_params()\n",
        "elif model_name == \"a2c\":\n",
        "  sample_hyperparameters = sample_a2c_params()\n",
        "\n",
        "def run_optuna_tune():\n",
        "\n",
        "  algo = OptunaSearch()\n",
        "  algo = ConcurrencyLimiter(algo,max_concurrent=4)\n",
        "  scheduler = AsyncHyperBandScheduler()\n",
        "  num_samples = 10\n",
        "  training_iterations = 100\n",
        "\n",
        "  analysis = tune.run(\n",
        "      MODEL_TRAINER[model_name],\n",
        "      metric=\"episode_reward_mean\", #The metric to optimize for tuning\n",
        "      mode=\"max\", #Maximize the metric\n",
        "      search_alg = algo,#OptunaSearch method which uses Tree Parzen estimator to sample hyperparameters\n",
        "      scheduler=scheduler, #To prune bad trials\n",
        "      config = {**sample_hyperparameters,\n",
        "                'env':'StockTrading_train_env','num_workers':1,\n",
        "                'num_gpus':1,'framework':'torch'},\n",
        "      num_samples = num_samples, #Number of hyperparameters to test out\n",
        "      stop = {'training_iteration':training_iterations},#Time attribute to validate the results\n",
        "      verbose=1,local_dir=\"./tuned_models\",#Saving tensorboard plots\n",
        "      # resources_per_trial={'gpu':1,'cpu':1},\n",
        "      max_failures = 1,#Extra Trying for the failed trials\n",
        "      raise_on_failed_trial=False,#Don't return error even if you have errored trials\n",
        "      keep_checkpoints_num = num_samples-5,\n",
        "      checkpoint_score_attr ='episode_reward_mean',#Only store keep_checkpoints_num trials based on this score\n",
        "      checkpoint_freq=training_iterations#Checpointing all the trials\n",
        "  )\n",
        "  print(\"Best hyperparameter: \", analysis.best_config)\n",
        "  return analysis"
      ]
    },
    {
      "cell_type": "code",
      "execution_count": null,
      "metadata": {
        "colab": {
          "base_uri": "https://localhost:8080/",
          "height": 875
        },
        "id": "zDz4GUMLuSUE",
        "outputId": "9751b541-0805-4cb5-9759-9c4c5817ba96"
      },
      "outputs": [
        {
          "data": {
            "text/html": [
              "== Status ==<br>Current time: 2022-01-06 07:46:55 (running for 01:00:10.86)<br>Memory usage on this node: 3.8/12.7 GiB<br>Using AsyncHyperBand: num_stopped=3\n",
              "Bracket: Iter 64.000: 2625.543680458008 | Iter 16.000: 2217.164554705456 | Iter 4.000: 1752.9660842756712 | Iter 1.000: nan<br>Resources requested: 0/2 CPUs, 0/1 GPUs, 0.0/6.92 GiB heap, 0.0/3.46 GiB objects (0.0/1.0 accelerator_type:K80)<br>Current best trial: c4a4a4e2 with episode_reward_mean=2261.1426521735193 and parameters={'num_workers': 1, 'num_envs_per_worker': 1, 'create_env_on_driver': False, 'rollout_fragment_length': 20, 'batch_mode': 'truncate_episodes', 'gamma': 0.99, 'lr': 0.003415320208891929, 'train_batch_size': 200, 'model': {'_use_default_native_models': False, '_disable_preprocessor_api': False, 'fcnet_hiddens': [256, 256], 'fcnet_activation': 'tanh', 'conv_filters': None, 'conv_activation': 'relu', 'post_fcnet_hiddens': [], 'post_fcnet_activation': 'relu', 'free_log_std': False, 'no_final_linear': False, 'vf_share_layers': True, 'use_lstm': False, 'max_seq_len': 20, 'lstm_cell_size': 256, 'lstm_use_prev_action': False, 'lstm_use_prev_reward': False, '_time_major': False, 'use_attention': False, 'attention_num_transformer_units': 1, 'attention_dim': 64, 'attention_num_heads': 1, 'attention_head_dim': 32, 'attention_memory_inference': 50, 'attention_memory_training': 50, 'attention_position_wise_mlp_dim': 32, 'attention_init_gru_gate_bias': 2.0, 'attention_use_n_prev_actions': 0, 'attention_use_n_prev_rewards': 0, 'framestack': True, 'dim': 84, 'grayscale': False, 'zero_mean': True, 'custom_model': None, 'custom_model_config': {}, 'custom_action_dist': None, 'custom_preprocessor': None, 'lstm_use_prev_action_reward': -1}, 'optimizer': {}, 'horizon': None, 'soft_horizon': False, 'no_done_at_end': False, 'env': 'StockTrading_train_env', 'observation_space': None, 'action_space': None, 'env_config': {}, 'remote_worker_envs': False, 'remote_env_batch_wait_ms': 0, 'env_task_fn': None, 'render_env': False, 'record_env': False, 'clip_rewards': None, 'normalize_actions': True, 'clip_actions': False, 'preprocessor_pref': 'deepmind', 'log_level': 'WARN', 'callbacks': <class 'ray.rllib.agents.callbacks.DefaultCallbacks'>, 'ignore_worker_failures': False, 'log_sys_usage': True, 'fake_sampler': False, 'framework': 'torch', 'eager_tracing': False, 'eager_max_retraces': 20, 'explore': True, 'exploration_config': {'type': 'StochasticSampling'}, 'evaluation_interval': None, 'evaluation_num_episodes': 10, 'evaluation_parallel_to_training': False, 'in_evaluation': False, 'evaluation_config': {}, 'evaluation_num_workers': 0, 'custom_eval_function': None, 'sample_async': False, 'sample_collector': <class 'ray.rllib.evaluation.collectors.simple_list_collector.SimpleListCollector'>, 'observation_filter': 'NoFilter', 'synchronize_filters': True, 'tf_session_args': {'intra_op_parallelism_threads': 2, 'inter_op_parallelism_threads': 2, 'gpu_options': {'allow_growth': True}, 'log_device_placement': False, 'device_count': {'CPU': 1}, 'allow_soft_placement': True}, 'local_tf_session_args': {'intra_op_parallelism_threads': 8, 'inter_op_parallelism_threads': 8}, 'compress_observations': False, 'collect_metrics_timeout': 180, 'metrics_smoothing_episodes': 100, 'min_iter_time_s': 10, 'timesteps_per_iteration': 0, 'seed': None, 'extra_python_environs_for_driver': {}, 'extra_python_environs_for_worker': {}, 'num_gpus': 1, '_fake_gpus': False, 'num_cpus_per_worker': 1, 'num_gpus_per_worker': 0, 'custom_resources_per_worker': {}, 'num_cpus_for_driver': 1, 'placement_strategy': 'PACK', 'input': 'sampler', 'input_config': {}, 'actions_in_input_normalized': False, 'input_evaluation': ['is', 'wis'], 'postprocess_inputs': False, 'shuffle_buffer_size': 0, 'output': None, 'output_compress_columns': ['obs', 'new_obs'], 'output_max_file_size': 67108864, 'multiagent': {'policies': {'default_policy': PolicySpec(policy_class=<class 'ray.rllib.policy.policy_template.A3CTorchPolicy'>, observation_space=None, action_space=None, config={})}, 'policy_map_capacity': 100, 'policy_map_cache': None, 'policy_mapping_fn': None, 'policies_to_train': None, 'observation_fn': None, 'replay_mode': 'independent', 'count_steps_by': 'env_steps'}, 'logger_config': None, '_tf_policy_handles_more_than_one_loss': False, '_disable_preprocessor_api': False, 'simple_optimizer': False, 'monitor': -1, 'use_critic': True, 'use_gae': True, 'lambda': 0.5, 'grad_clip': 40.0, 'lr_schedule': None, 'vf_loss_coeff': 0.5, 'entropy_coeff': 1.9874536358446893e-06, 'entropy_coeff_schedule': None, 'microbatch_size': None}<br>Result logdir: /content/tuned_models/A2C_2022-01-06_06-46-44<br>Number of trials: 10/10 (4 ERROR, 6 TERMINATED)<br>Number of errored trials: 4<br><table>\n",
              "<thead>\n",
              "<tr><th>Trial name                         </th><th style=\"text-align: right;\">  # failures</th><th>error file                                                                                                                                                                                                </th></tr>\n",
              "</thead>\n",
              "<tbody>\n",
              "<tr><td>A2C_StockTrading_train_env_957cacc8</td><td style=\"text-align: right;\">           2</td><td>/content/tuned_models/A2C_2022-01-06_06-46-44/A2C_StockTrading_train_env_957cacc8_5_entropy_coeff=0.076541,framework=torch,lambda=0.3,lr=0.26807,num_gpus=1,num_workers=1_2022-01-06_07-23-45/error.txt   </td></tr>\n",
              "<tr><td>A2C_StockTrading_train_env_b0f90b9a</td><td style=\"text-align: right;\">           2</td><td>/content/tuned_models/A2C_2022-01-06_06-46-44/A2C_StockTrading_train_env_b0f90b9a_6_entropy_coeff=0.0098996,framework=torch,lambda=0.9,lr=0.25954,num_gpus=1,num_workers=1_2022-01-06_07-24-31/error.txt  </td></tr>\n",
              "<tr><td>A2C_StockTrading_train_env_dd1f1458</td><td style=\"text-align: right;\">           2</td><td>/content/tuned_models/A2C_2022-01-06_06-46-44/A2C_StockTrading_train_env_dd1f1458_8_entropy_coeff=0.00020697,framework=torch,lambda=0.3,lr=0.14676,num_gpus=1,num_workers=1_2022-01-06_07-25-45/error.txt </td></tr>\n",
              "<tr><td>A2C_StockTrading_train_env_57b1abb6</td><td style=\"text-align: right;\">           2</td><td>/content/tuned_models/A2C_2022-01-06_06-46-44/A2C_StockTrading_train_env_57b1abb6_10_entropy_coeff=1.3577e-08,framework=torch,lambda=0.1,lr=0.21904,num_gpus=1,num_workers=1_2022-01-06_07-43-30/error.txt</td></tr>\n",
              "</tbody>\n",
              "</table><br>"
            ],
            "text/plain": [
              "<IPython.core.display.HTML object>"
            ]
          },
          "metadata": {},
          "output_type": "display_data"
        },
        {
          "name": "stderr",
          "output_type": "stream",
          "text": [
            "2022-01-06 07:46:56,018\tERROR tune.py:622 -- Trials did not complete: [A2C_StockTrading_train_env_957cacc8, A2C_StockTrading_train_env_b0f90b9a, A2C_StockTrading_train_env_dd1f1458, A2C_StockTrading_train_env_57b1abb6]\n",
            "2022-01-06 07:46:56,022\tINFO tune.py:626 -- Total run time: 3611.50 seconds (3610.83 seconds for the tuning loop).\n"
          ]
        },
        {
          "name": "stdout",
          "output_type": "stream",
          "text": [
            "Best hyperparameter:  {'lambda': 0.5, 'entropy_coeff': 1.9874536358446893e-06, 'lr': 0.003415320208891929, 'env': 'StockTrading_train_env', 'num_workers': 1, 'num_gpus': 1, 'framework': 'torch'}\n"
          ]
        }
      ],
      "source": [
        "analysis = run_optuna_tune()"
      ]
    },
    {
      "cell_type": "markdown",
      "metadata": {
        "id": "6d3a8-KROYJ_"
      },
      "source": [
        "## Best config, directory and checkpoint for hyperparameters\n",
        "\n"
      ]
    },
    {
      "cell_type": "code",
      "execution_count": null,
      "metadata": {
        "colab": {
          "base_uri": "https://localhost:8080/"
        },
        "id": "OGDP01DcCR9Z",
        "outputId": "a7fc74da-7a98-4d4e-b4ac-49e00c0fdd69"
      },
      "outputs": [
        {
          "data": {
            "text/plain": [
              "{'entropy_coeff': 1.9874536358446893e-06,\n",
              " 'env': 'StockTrading_train_env',\n",
              " 'framework': 'torch',\n",
              " 'lambda': 0.5,\n",
              " 'lr': 0.003415320208891929,\n",
              " 'num_gpus': 1,\n",
              " 'num_workers': 1}"
            ]
          },
          "execution_count": 16,
          "metadata": {},
          "output_type": "execute_result"
        }
      ],
      "source": [
        "best_config = analysis.get_best_config(metric='episode_reward_mean',mode='max')\n",
        "best_config"
      ]
    },
    {
      "cell_type": "code",
      "execution_count": null,
      "metadata": {
        "colab": {
          "base_uri": "https://localhost:8080/",
          "height": 53
        },
        "id": "Awbo9S2sZbOv",
        "outputId": "71e9fd9b-23ee-4f19-8b30-63da1add087e"
      },
      "outputs": [
        {
          "data": {
            "application/vnd.google.colaboratory.intrinsic+json": {
              "type": "string"
            },
            "text/plain": [
              "'/content/tuned_models/A2C_2022-01-06_06-46-44/A2C_StockTrading_train_env_c4a4a4e2_7_entropy_coeff=1.9875e-06,framework=torch,lambda=0.5,lr=0.0034153,num_gpus=1,num_workers=1_2022-01-06_07-25-04'"
            ]
          },
          "execution_count": 17,
          "metadata": {},
          "output_type": "execute_result"
        }
      ],
      "source": [
        "best_logdir = analysis.get_best_logdir(metric='episode_reward_mean',mode='max')\n",
        "best_logdir"
      ]
    },
    {
      "cell_type": "code",
      "execution_count": null,
      "metadata": {
        "colab": {
          "base_uri": "https://localhost:8080/",
          "height": 53
        },
        "id": "wa-dilLhHGEd",
        "outputId": "f1432e32-f049-4605-c836-da1a6436f2bb"
      },
      "outputs": [
        {
          "data": {
            "application/vnd.google.colaboratory.intrinsic+json": {
              "type": "string"
            },
            "text/plain": [
              "'/content/tuned_models/A2C_2022-01-06_06-46-44/A2C_StockTrading_train_env_c4a4a4e2_7_entropy_coeff=1.9875e-06,framework=torch,lambda=0.5,lr=0.0034153,num_gpus=1,num_workers=1_2022-01-06_07-25-04/checkpoint_000100/checkpoint-100'"
            ]
          },
          "execution_count": 18,
          "metadata": {},
          "output_type": "execute_result"
        }
      ],
      "source": [
        "best_checkpoint = analysis.best_checkpoint\n",
        "best_checkpoint"
      ]
    },
    {
      "cell_type": "code",
      "execution_count": null,
      "metadata": {
        "id": "RgcBMJBzAhZl"
      },
      "outputs": [],
      "source": [
        "# sharpe,df_account_test,df_action_test = val_or_test(TEST_START_DATE, TEST_END_DATE, ticker_list, data_source, time_interval,\n",
        "#          technical_indicator_list, env, model_name,best_checkpoint, if_vix = True)"
      ]
    },
    {
      "cell_type": "code",
      "execution_count": null,
      "metadata": {
        "colab": {
          "base_uri": "https://localhost:8080/"
        },
        "id": "tO2MmLVTZWs-",
        "outputId": "56022129-ffe8-4f57-96c4-efc473a7140b"
      },
      "outputs": [
        {
          "name": "stdout",
          "output_type": "stream",
          "text": [
            "\r[*********************100%***********************]  1 of 1 completed\n",
            "Shape of DataFrame:  (294, 9)\n",
            "Clean data for TSLA\n",
            "Data clean for TSLA is finished.\n",
            "Data clean all finished!\n",
            "[*********************100%***********************]  1 of 1 completed\n",
            "Shape of DataFrame:  (294, 9)\n",
            "Clean data for ^VIX\n",
            "Data clean for ^VIX is finished.\n",
            "Data clean all finished!\n",
            "['TSLA']\n",
            "Successfully transformed into array\n"
          ]
        }
      ],
      "source": [
        "test_env_config = get_test_config(TEST_START_DATE, TEST_END_DATE, ticker_list, data_source, time_interval,\n",
        "                        technical_indicator_list, env, model_name)"
      ]
    },
    {
      "cell_type": "code",
      "execution_count": null,
      "metadata": {
        "id": "Dt0mhUOgeWtX"
      },
      "outputs": [],
      "source": [
        "sharpe,account,actions = val_or_test(test_env_config,agent_path,model_name,env)"
      ]
    },
    {
      "cell_type": "code",
      "execution_count": null,
      "metadata": {
        "id": "Wis62wQaYHTR"
      },
      "outputs": [],
      "source": [
        "def DRL_prediction(\n",
        "        model_name,\n",
        "        test_env_config,\n",
        "        env,\n",
        "        model_config,\n",
        "        agent_path,\n",
        "        env_name_test='StockTrading_test_env'\n",
        "    ):\n",
        "\n",
        "        env_instance = env(test_env_config)\n",
        "\n",
        "        register_env(env_name_test, lambda config: env(test_env_config))\n",
        "        model_config['env'] = env_name_test\n",
        "        # ray.init() # Other Ray APIs will not work until `ray.init()` is called.\n",
        "        if model_name == \"ppo\":\n",
        "            trainer = MODELS[model_name].PPOTrainer(config=model_config)\n",
        "        elif model_name == \"a2c\":\n",
        "            trainer = MODELS[model_name].A2CTrainer(config=model_config)\n",
        "        elif model_name == \"ddpg\":\n",
        "            trainer = MODELS[model_name].DDPGTrainer(config=model_config)\n",
        "        elif model_name == \"td3\":\n",
        "            trainer = MODELS[model_name].TD3Trainer(config=model_config)\n",
        "        elif model_name == \"sac\":\n",
        "            trainer = MODELS[model_name].SACTrainer(config=model_config)\n",
        "\n",
        "        try:\n",
        "            trainer.restore(agent_path)\n",
        "            print(\"Restoring from checkpoint path\", agent_path)\n",
        "        except BaseException:\n",
        "            raise ValueError(\"Fail to load agent!\")\n",
        "\n",
        "        # test on the testing env\n",
        "        state = env_instance.reset()\n",
        "        episode_returns = list()  # the cumulative_return / initial_account\n",
        "        episode_total_assets = list()\n",
        "        episode_total_assets.append(env_instance.initial_total_asset)\n",
        "        done = False\n",
        "        while not done:\n",
        "            action = trainer.compute_single_action(state)\n",
        "            state, reward, done, _ = env_instance.step(action)\n",
        "\n",
        "            total_asset = (\n",
        "                env_instance.amount\n",
        "                + (env_instance.price_ary[env_instance.day] * env_instance.stocks).sum()\n",
        "            )\n",
        "            episode_total_assets.append(total_asset)\n",
        "            episode_return = total_asset / env_instance.initial_total_asset\n",
        "            episode_returns.append(episode_return)\n",
        "        ray.shutdown()\n",
        "        print(\"episode return: \" + str(episode_return))\n",
        "        print(\"Test Finished!\")\n",
        "        return episode_total_assets"
      ]
    },
    {
      "cell_type": "code",
      "execution_count": null,
      "metadata": {
        "colab": {
          "base_uri": "https://localhost:8080/"
        },
        "id": "mS_6EclCc-rR",
        "outputId": "029a8c98-3628-4db8-c251-50eff1d8aa4f"
      },
      "outputs": [
        {
          "name": "stderr",
          "output_type": "stream",
          "text": [
            "\u001b[2m\u001b[36m(RolloutWorker pid=54558)\u001b[0m 2022-01-06 08:15:05,638\tWARNING deprecation.py:46 -- DeprecationWarning: `convert_to_non_torch_type` has been deprecated. Use `ray/rllib/utils/numpy.py::convert_to_numpy` instead. This will raise an error in the future!\n",
            "2022-01-06 08:15:05,784\tINFO trainable.py:468 -- Restored on 172.28.0.2 from checkpoint: /content/tuned_models/A2C_2022-01-06_06-46-44/A2C_StockTrading_train_env_c4a4a4e2_7_entropy_coeff=1.9875e-06,framework=torch,lambda=0.5,lr=0.0034153,num_gpus=1,num_workers=1_2022-01-06_07-25-04/checkpoint_000100/checkpoint-100\n",
            "2022-01-06 08:15:05,857\tINFO trainable.py:475 -- Current state after restoring: {'_iteration': 100, '_timesteps_total': 0, '_time_total': 1010.0849390029907, '_episodes_total': 307}\n"
          ]
        },
        {
          "name": "stdout",
          "output_type": "stream",
          "text": [
            "Restoring from checkpoint path /content/tuned_models/A2C_2022-01-06_06-46-44/A2C_StockTrading_train_env_c4a4a4e2_7_entropy_coeff=1.9875e-06,framework=torch,lambda=0.5,lr=0.0034153,num_gpus=1,num_workers=1_2022-01-06_07-25-04/checkpoint_000100/checkpoint-100\n",
            "episode return: 1.0\n",
            "Test Finished!\n"
          ]
        }
      ],
      "source": [
        "episode_total_assets = DRL_prediction(\n",
        "        model_name,\n",
        "        test_env_config,\n",
        "        env,\n",
        "        best_config,\n",
        "        best_checkpoint,\n",
        "        env_name_test='StockTrading_test_env')"
      ]
    },
    {
      "cell_type": "code",
      "execution_count": null,
      "metadata": {
        "id": "uRgs0r2Udbvn"
      },
      "outputs": [],
      "source": [
        "print('The test sharpe ratio is: ',calculate_sharpe(episode_total_assets))\n",
        "df_account_test = pd.DataFrame(data=episode_total_assets,columns=['account_value'])"
      ]
    }
  ],
  "metadata": {
    "accelerator": "GPU",
    "colab": {
      "name": "FinRL Raytune for Hyperparameter Optimization.ipynb",
      "provenance": [],
      "include_colab_link": true
    },
    "kernelspec": {
      "display_name": "Python 3",
      "name": "python3"
    },
    "language_info": {
      "name": "python"
    }
  },
  "nbformat": 4,
  "nbformat_minor": 0
}